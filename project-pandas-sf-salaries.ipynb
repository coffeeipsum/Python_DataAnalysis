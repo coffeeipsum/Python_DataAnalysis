{
 "cells": [
  {
   "cell_type": "code",
   "execution_count": 1,
   "id": "nuclear-connection",
   "metadata": {
    "_cell_guid": "b1076dfc-b9ad-4769-8c92-a6c4dae69d19",
    "_uuid": "8f2839f25d086af736a60e9eeb907d3b93b6e0e5",
    "execution": {
     "iopub.execute_input": "2021-05-02T10:17:51.852171Z",
     "iopub.status.busy": "2021-05-02T10:17:51.850984Z",
     "iopub.status.idle": "2021-05-02T10:17:51.877393Z",
     "shell.execute_reply": "2021-05-02T10:17:51.878189Z"
    },
    "papermill": {
     "duration": 0.052593,
     "end_time": "2021-05-02T10:17:51.878607",
     "exception": false,
     "start_time": "2021-05-02T10:17:51.826014",
     "status": "completed"
    },
    "tags": []
   },
   "outputs": [
    {
     "name": "stdout",
     "output_type": "stream",
     "text": [
      "/kaggle/input/sf-salaries/Salaries.csv\n",
      "/kaggle/input/sf-salaries/database.sqlite\n"
     ]
    }
   ],
   "source": [
    "# This Python 3 environment comes with many helpful analytics libraries installed\n",
    "# It is defined by the kaggle/python Docker image: https://github.com/kaggle/docker-python\n",
    "# For example, here's several helpful packages to load\n",
    "\n",
    "import numpy as np # linear algebra\n",
    "import pandas as pd # data processing, CSV file I/O (e.g. pd.read_csv)\n",
    "\n",
    "# Input data files are available in the read-only \"../input/\" directory\n",
    "# For example, running this (by clicking run or pressing Shift+Enter) will list all files under the input directory\n",
    "\n",
    "import os\n",
    "for dirname, _, filenames in os.walk('/kaggle/input'):\n",
    "    for filename in filenames:\n",
    "        print(os.path.join(dirname, filename))\n",
    "\n",
    "# You can write up to 20GB to the current directory (/kaggle/working/) that gets preserved as output when you create a version using \"Save & Run All\" \n",
    "# You can also write temporary files to /kaggle/temp/, but they won't be saved outside of the current session"
   ]
  },
  {
   "cell_type": "code",
   "execution_count": 2,
   "id": "guided-music",
   "metadata": {
    "execution": {
     "iopub.execute_input": "2021-05-02T10:17:51.924625Z",
     "iopub.status.busy": "2021-05-02T10:17:51.923958Z",
     "iopub.status.idle": "2021-05-02T10:17:52.748586Z",
     "shell.execute_reply": "2021-05-02T10:17:52.749096Z"
    },
    "papermill": {
     "duration": 0.848168,
     "end_time": "2021-05-02T10:17:52.749266",
     "exception": false,
     "start_time": "2021-05-02T10:17:51.901098",
     "status": "completed"
    },
    "tags": []
   },
   "outputs": [
    {
     "name": "stderr",
     "output_type": "stream",
     "text": [
      "/opt/conda/lib/python3.7/site-packages/IPython/core/interactiveshell.py:3166: DtypeWarning: Columns (3,4,5,6,12) have mixed types.Specify dtype option on import or set low_memory=False.\n",
      "  interactivity=interactivity, compiler=compiler, result=result)\n"
     ]
    }
   ],
   "source": [
    "sal = pd.read_csv('../input/sf-salaries/Salaries.csv')"
   ]
  },
  {
   "cell_type": "code",
   "execution_count": 3,
   "id": "presidential-briefs",
   "metadata": {
    "execution": {
     "iopub.execute_input": "2021-05-02T10:17:52.801642Z",
     "iopub.status.busy": "2021-05-02T10:17:52.800890Z",
     "iopub.status.idle": "2021-05-02T10:17:52.829065Z",
     "shell.execute_reply": "2021-05-02T10:17:52.828398Z"
    },
    "papermill": {
     "duration": 0.058895,
     "end_time": "2021-05-02T10:17:52.829214",
     "exception": false,
     "start_time": "2021-05-02T10:17:52.770319",
     "status": "completed"
    },
    "tags": []
   },
   "outputs": [
    {
     "data": {
      "text/html": [
       "<div>\n",
       "<style scoped>\n",
       "    .dataframe tbody tr th:only-of-type {\n",
       "        vertical-align: middle;\n",
       "    }\n",
       "\n",
       "    .dataframe tbody tr th {\n",
       "        vertical-align: top;\n",
       "    }\n",
       "\n",
       "    .dataframe thead th {\n",
       "        text-align: right;\n",
       "    }\n",
       "</style>\n",
       "<table border=\"1\" class=\"dataframe\">\n",
       "  <thead>\n",
       "    <tr style=\"text-align: right;\">\n",
       "      <th></th>\n",
       "      <th>Id</th>\n",
       "      <th>EmployeeName</th>\n",
       "      <th>JobTitle</th>\n",
       "      <th>BasePay</th>\n",
       "      <th>OvertimePay</th>\n",
       "      <th>OtherPay</th>\n",
       "      <th>Benefits</th>\n",
       "      <th>TotalPay</th>\n",
       "      <th>TotalPayBenefits</th>\n",
       "      <th>Year</th>\n",
       "      <th>Notes</th>\n",
       "      <th>Agency</th>\n",
       "      <th>Status</th>\n",
       "    </tr>\n",
       "  </thead>\n",
       "  <tbody>\n",
       "    <tr>\n",
       "      <th>0</th>\n",
       "      <td>1</td>\n",
       "      <td>NATHANIEL FORD</td>\n",
       "      <td>GENERAL MANAGER-METROPOLITAN TRANSIT AUTHORITY</td>\n",
       "      <td>167411.18</td>\n",
       "      <td>0.0</td>\n",
       "      <td>400184.25</td>\n",
       "      <td>NaN</td>\n",
       "      <td>567595.43</td>\n",
       "      <td>567595.43</td>\n",
       "      <td>2011</td>\n",
       "      <td>NaN</td>\n",
       "      <td>San Francisco</td>\n",
       "      <td>NaN</td>\n",
       "    </tr>\n",
       "    <tr>\n",
       "      <th>1</th>\n",
       "      <td>2</td>\n",
       "      <td>GARY JIMENEZ</td>\n",
       "      <td>CAPTAIN III (POLICE DEPARTMENT)</td>\n",
       "      <td>155966.02</td>\n",
       "      <td>245131.88</td>\n",
       "      <td>137811.38</td>\n",
       "      <td>NaN</td>\n",
       "      <td>538909.28</td>\n",
       "      <td>538909.28</td>\n",
       "      <td>2011</td>\n",
       "      <td>NaN</td>\n",
       "      <td>San Francisco</td>\n",
       "      <td>NaN</td>\n",
       "    </tr>\n",
       "    <tr>\n",
       "      <th>2</th>\n",
       "      <td>3</td>\n",
       "      <td>ALBERT PARDINI</td>\n",
       "      <td>CAPTAIN III (POLICE DEPARTMENT)</td>\n",
       "      <td>212739.13</td>\n",
       "      <td>106088.18</td>\n",
       "      <td>16452.6</td>\n",
       "      <td>NaN</td>\n",
       "      <td>335279.91</td>\n",
       "      <td>335279.91</td>\n",
       "      <td>2011</td>\n",
       "      <td>NaN</td>\n",
       "      <td>San Francisco</td>\n",
       "      <td>NaN</td>\n",
       "    </tr>\n",
       "    <tr>\n",
       "      <th>3</th>\n",
       "      <td>4</td>\n",
       "      <td>CHRISTOPHER CHONG</td>\n",
       "      <td>WIRE ROPE CABLE MAINTENANCE MECHANIC</td>\n",
       "      <td>77916.0</td>\n",
       "      <td>56120.71</td>\n",
       "      <td>198306.9</td>\n",
       "      <td>NaN</td>\n",
       "      <td>332343.61</td>\n",
       "      <td>332343.61</td>\n",
       "      <td>2011</td>\n",
       "      <td>NaN</td>\n",
       "      <td>San Francisco</td>\n",
       "      <td>NaN</td>\n",
       "    </tr>\n",
       "    <tr>\n",
       "      <th>4</th>\n",
       "      <td>5</td>\n",
       "      <td>PATRICK GARDNER</td>\n",
       "      <td>DEPUTY CHIEF OF DEPARTMENT,(FIRE DEPARTMENT)</td>\n",
       "      <td>134401.6</td>\n",
       "      <td>9737.0</td>\n",
       "      <td>182234.59</td>\n",
       "      <td>NaN</td>\n",
       "      <td>326373.19</td>\n",
       "      <td>326373.19</td>\n",
       "      <td>2011</td>\n",
       "      <td>NaN</td>\n",
       "      <td>San Francisco</td>\n",
       "      <td>NaN</td>\n",
       "    </tr>\n",
       "  </tbody>\n",
       "</table>\n",
       "</div>"
      ],
      "text/plain": [
       "   Id       EmployeeName                                        JobTitle  \\\n",
       "0   1     NATHANIEL FORD  GENERAL MANAGER-METROPOLITAN TRANSIT AUTHORITY   \n",
       "1   2       GARY JIMENEZ                 CAPTAIN III (POLICE DEPARTMENT)   \n",
       "2   3     ALBERT PARDINI                 CAPTAIN III (POLICE DEPARTMENT)   \n",
       "3   4  CHRISTOPHER CHONG            WIRE ROPE CABLE MAINTENANCE MECHANIC   \n",
       "4   5    PATRICK GARDNER    DEPUTY CHIEF OF DEPARTMENT,(FIRE DEPARTMENT)   \n",
       "\n",
       "     BasePay OvertimePay   OtherPay Benefits   TotalPay  TotalPayBenefits  \\\n",
       "0  167411.18         0.0  400184.25      NaN  567595.43         567595.43   \n",
       "1  155966.02   245131.88  137811.38      NaN  538909.28         538909.28   \n",
       "2  212739.13   106088.18    16452.6      NaN  335279.91         335279.91   \n",
       "3    77916.0    56120.71   198306.9      NaN  332343.61         332343.61   \n",
       "4   134401.6      9737.0  182234.59      NaN  326373.19         326373.19   \n",
       "\n",
       "   Year  Notes         Agency Status  \n",
       "0  2011    NaN  San Francisco    NaN  \n",
       "1  2011    NaN  San Francisco    NaN  \n",
       "2  2011    NaN  San Francisco    NaN  \n",
       "3  2011    NaN  San Francisco    NaN  \n",
       "4  2011    NaN  San Francisco    NaN  "
      ]
     },
     "execution_count": 3,
     "metadata": {},
     "output_type": "execute_result"
    }
   ],
   "source": [
    "sal.head()"
   ]
  },
  {
   "cell_type": "code",
   "execution_count": 4,
   "id": "printable-folder",
   "metadata": {
    "execution": {
     "iopub.execute_input": "2021-05-02T10:17:52.878242Z",
     "iopub.status.busy": "2021-05-02T10:17:52.877612Z",
     "iopub.status.idle": "2021-05-02T10:17:52.979997Z",
     "shell.execute_reply": "2021-05-02T10:17:52.979475Z"
    },
    "papermill": {
     "duration": 0.129243,
     "end_time": "2021-05-02T10:17:52.980142",
     "exception": false,
     "start_time": "2021-05-02T10:17:52.850899",
     "status": "completed"
    },
    "tags": []
   },
   "outputs": [
    {
     "name": "stdout",
     "output_type": "stream",
     "text": [
      "<class 'pandas.core.frame.DataFrame'>\n",
      "RangeIndex: 148654 entries, 0 to 148653\n",
      "Data columns (total 13 columns):\n",
      " #   Column            Non-Null Count   Dtype  \n",
      "---  ------            --------------   -----  \n",
      " 0   Id                148654 non-null  int64  \n",
      " 1   EmployeeName      148654 non-null  object \n",
      " 2   JobTitle          148654 non-null  object \n",
      " 3   BasePay           148049 non-null  object \n",
      " 4   OvertimePay       148654 non-null  object \n",
      " 5   OtherPay          148654 non-null  object \n",
      " 6   Benefits          112495 non-null  object \n",
      " 7   TotalPay          148654 non-null  float64\n",
      " 8   TotalPayBenefits  148654 non-null  float64\n",
      " 9   Year              148654 non-null  int64  \n",
      " 10  Notes             0 non-null       float64\n",
      " 11  Agency            148654 non-null  object \n",
      " 12  Status            38119 non-null   object \n",
      "dtypes: float64(3), int64(2), object(8)\n",
      "memory usage: 14.7+ MB\n"
     ]
    }
   ],
   "source": [
    "sal.info()"
   ]
  },
  {
   "cell_type": "code",
   "execution_count": 5,
   "id": "canadian-timeline",
   "metadata": {
    "execution": {
     "iopub.execute_input": "2021-05-02T10:17:53.029930Z",
     "iopub.status.busy": "2021-05-02T10:17:53.029244Z",
     "iopub.status.idle": "2021-05-02T10:17:53.032446Z",
     "shell.execute_reply": "2021-05-02T10:17:53.031837Z"
    },
    "papermill": {
     "duration": 0.029586,
     "end_time": "2021-05-02T10:17:53.032602",
     "exception": false,
     "start_time": "2021-05-02T10:17:53.003016",
     "status": "completed"
    },
    "tags": []
   },
   "outputs": [],
   "source": [
    "df_sal = pd.DataFrame(sal)"
   ]
  },
  {
   "cell_type": "code",
   "execution_count": 6,
   "id": "searching-yeast",
   "metadata": {
    "execution": {
     "iopub.execute_input": "2021-05-02T10:17:53.081903Z",
     "iopub.status.busy": "2021-05-02T10:17:53.081156Z",
     "iopub.status.idle": "2021-05-02T10:18:29.489964Z",
     "shell.execute_reply": "2021-05-02T10:18:29.490580Z"
    },
    "papermill": {
     "duration": 36.435956,
     "end_time": "2021-05-02T10:18:29.490759",
     "exception": false,
     "start_time": "2021-05-02T10:17:53.054803",
     "status": "completed"
    },
    "tags": []
   },
   "outputs": [
    {
     "data": {
      "text/plain": [
       "Id                  74327.500000\n",
       "TotalPay            74768.321972\n",
       "TotalPayBenefits    93692.554811\n",
       "Year                 2012.522643\n",
       "Notes                        NaN\n",
       "dtype: float64"
      ]
     },
     "execution_count": 6,
     "metadata": {},
     "output_type": "execute_result"
    }
   ],
   "source": [
    "df_sal.mean()"
   ]
  },
  {
   "cell_type": "code",
   "execution_count": 7,
   "id": "comparable-canyon",
   "metadata": {
    "execution": {
     "iopub.execute_input": "2021-05-02T10:18:29.539074Z",
     "iopub.status.busy": "2021-05-02T10:18:29.538364Z",
     "iopub.status.idle": "2021-05-02T10:18:29.545844Z",
     "shell.execute_reply": "2021-05-02T10:18:29.545196Z"
    },
    "papermill": {
     "duration": 0.032924,
     "end_time": "2021-05-02T10:18:29.545996",
     "exception": false,
     "start_time": "2021-05-02T10:18:29.513072",
     "status": "completed"
    },
    "tags": []
   },
   "outputs": [
    {
     "data": {
      "text/plain": [
       "567595.43"
      ]
     },
     "execution_count": 7,
     "metadata": {},
     "output_type": "execute_result"
    }
   ],
   "source": [
    "df_sal['TotalPay'].max()"
   ]
  },
  {
   "cell_type": "code",
   "execution_count": 8,
   "id": "boring-antique",
   "metadata": {
    "execution": {
     "iopub.execute_input": "2021-05-02T10:18:29.619682Z",
     "iopub.status.busy": "2021-05-02T10:18:29.618926Z",
     "iopub.status.idle": "2021-05-02T10:18:29.626946Z",
     "shell.execute_reply": "2021-05-02T10:18:29.626447Z"
    },
    "papermill": {
     "duration": 0.058045,
     "end_time": "2021-05-02T10:18:29.627089",
     "exception": false,
     "start_time": "2021-05-02T10:18:29.569044",
     "status": "completed"
    },
    "tags": []
   },
   "outputs": [
    {
     "data": {
      "text/plain": [
       "1    CAPTAIN III (POLICE DEPARTMENT)\n",
       "Name: JobTitle, dtype: object"
      ]
     },
     "execution_count": 8,
     "metadata": {},
     "output_type": "execute_result"
    }
   ],
   "source": [
    "df_sal[df_sal['EmployeeName']== 'GARY JIMENEZ']['JobTitle']"
   ]
  },
  {
   "cell_type": "code",
   "execution_count": 9,
   "id": "mineral-breakfast",
   "metadata": {
    "execution": {
     "iopub.execute_input": "2021-05-02T10:18:29.704788Z",
     "iopub.status.busy": "2021-05-02T10:18:29.702202Z",
     "iopub.status.idle": "2021-05-02T10:18:29.709464Z",
     "shell.execute_reply": "2021-05-02T10:18:29.708788Z"
    },
    "papermill": {
     "duration": 0.0591,
     "end_time": "2021-05-02T10:18:29.709607",
     "exception": false,
     "start_time": "2021-05-02T10:18:29.650507",
     "status": "completed"
    },
    "tags": []
   },
   "outputs": [
    {
     "data": {
      "text/plain": [
       "1    538909.28\n",
       "Name: TotalPayBenefits, dtype: float64"
      ]
     },
     "execution_count": 9,
     "metadata": {},
     "output_type": "execute_result"
    }
   ],
   "source": [
    "df_sal[df_sal['EmployeeName']== 'GARY JIMENEZ']['TotalPayBenefits']"
   ]
  },
  {
   "cell_type": "code",
   "execution_count": 10,
   "id": "consecutive-starter",
   "metadata": {
    "execution": {
     "iopub.execute_input": "2021-05-02T10:18:29.762888Z",
     "iopub.status.busy": "2021-05-02T10:18:29.762189Z",
     "iopub.status.idle": "2021-05-02T10:18:29.769798Z",
     "shell.execute_reply": "2021-05-02T10:18:29.769046Z"
    },
    "papermill": {
     "duration": 0.03642,
     "end_time": "2021-05-02T10:18:29.769964",
     "exception": false,
     "start_time": "2021-05-02T10:18:29.733544",
     "status": "completed"
    },
    "tags": []
   },
   "outputs": [
    {
     "data": {
      "text/plain": [
       "567595.43"
      ]
     },
     "execution_count": 10,
     "metadata": {},
     "output_type": "execute_result"
    }
   ],
   "source": [
    "df_sal['TotalPayBenefits'].max()"
   ]
  },
  {
   "cell_type": "code",
   "execution_count": 11,
   "id": "functional-remove",
   "metadata": {
    "execution": {
     "iopub.execute_input": "2021-05-02T10:18:29.826239Z",
     "iopub.status.busy": "2021-05-02T10:18:29.825225Z",
     "iopub.status.idle": "2021-05-02T10:18:29.853510Z",
     "shell.execute_reply": "2021-05-02T10:18:29.852863Z"
    },
    "papermill": {
     "duration": 0.058458,
     "end_time": "2021-05-02T10:18:29.853659",
     "exception": false,
     "start_time": "2021-05-02T10:18:29.795201",
     "status": "completed"
    },
    "tags": []
   },
   "outputs": [
    {
     "data": {
      "text/plain": [
       "0          True\n",
       "1         False\n",
       "2         False\n",
       "3         False\n",
       "4         False\n",
       "          ...  \n",
       "148649    False\n",
       "148650    False\n",
       "148651    False\n",
       "148652    False\n",
       "148653    False\n",
       "Name: TotalPayBenefits, Length: 148654, dtype: bool"
      ]
     },
     "execution_count": 11,
     "metadata": {},
     "output_type": "execute_result"
    }
   ],
   "source": [
    "df_sal['TotalPayBenefits'] == df_sal['TotalPayBenefits'].max()"
   ]
  },
  {
   "cell_type": "code",
   "execution_count": 12,
   "id": "rapid-understanding",
   "metadata": {
    "execution": {
     "iopub.execute_input": "2021-05-02T10:18:29.910666Z",
     "iopub.status.busy": "2021-05-02T10:18:29.909551Z",
     "iopub.status.idle": "2021-05-02T10:18:29.918894Z",
     "shell.execute_reply": "2021-05-02T10:18:29.918280Z"
    },
    "papermill": {
     "duration": 0.040063,
     "end_time": "2021-05-02T10:18:29.919051",
     "exception": false,
     "start_time": "2021-05-02T10:18:29.878988",
     "status": "completed"
    },
    "tags": []
   },
   "outputs": [
    {
     "data": {
      "text/plain": [
       "0    NATHANIEL FORD\n",
       "Name: EmployeeName, dtype: object"
      ]
     },
     "execution_count": 12,
     "metadata": {},
     "output_type": "execute_result"
    }
   ],
   "source": [
    "df_sal[df_sal['TotalPayBenefits'] == df_sal['TotalPayBenefits'].max()]['EmployeeName']"
   ]
  },
  {
   "cell_type": "code",
   "execution_count": 13,
   "id": "cloudy-harvest",
   "metadata": {
    "execution": {
     "iopub.execute_input": "2021-05-02T10:18:29.973635Z",
     "iopub.status.busy": "2021-05-02T10:18:29.972953Z",
     "iopub.status.idle": "2021-05-02T10:18:29.981459Z",
     "shell.execute_reply": "2021-05-02T10:18:29.982096Z"
    },
    "papermill": {
     "duration": 0.037669,
     "end_time": "2021-05-02T10:18:29.982271",
     "exception": false,
     "start_time": "2021-05-02T10:18:29.944602",
     "status": "completed"
    },
    "tags": []
   },
   "outputs": [
    {
     "data": {
      "text/plain": [
       "Id                                                               1\n",
       "EmployeeName                                        NATHANIEL FORD\n",
       "JobTitle            GENERAL MANAGER-METROPOLITAN TRANSIT AUTHORITY\n",
       "BasePay                                                  167411.18\n",
       "OvertimePay                                                    0.0\n",
       "OtherPay                                                 400184.25\n",
       "Benefits                                                       NaN\n",
       "TotalPay                                                 567595.43\n",
       "TotalPayBenefits                                         567595.43\n",
       "Year                                                          2011\n",
       "Notes                                                          NaN\n",
       "Agency                                               San Francisco\n",
       "Status                                                         NaN\n",
       "Name: 0, dtype: object"
      ]
     },
     "execution_count": 13,
     "metadata": {},
     "output_type": "execute_result"
    }
   ],
   "source": [
    "df_sal.loc[df_sal['TotalPayBenefits'].idxmax()]"
   ]
  },
  {
   "cell_type": "code",
   "execution_count": 14,
   "id": "growing-minutes",
   "metadata": {
    "execution": {
     "iopub.execute_input": "2021-05-02T10:18:30.037969Z",
     "iopub.status.busy": "2021-05-02T10:18:30.037256Z",
     "iopub.status.idle": "2021-05-02T10:18:30.043569Z",
     "shell.execute_reply": "2021-05-02T10:18:30.044167Z"
    },
    "papermill": {
     "duration": 0.035956,
     "end_time": "2021-05-02T10:18:30.044376",
     "exception": false,
     "start_time": "2021-05-02T10:18:30.008420",
     "status": "completed"
    },
    "tags": []
   },
   "outputs": [
    {
     "data": {
      "text/plain": [
       "148653"
      ]
     },
     "execution_count": 14,
     "metadata": {},
     "output_type": "execute_result"
    }
   ],
   "source": [
    "df_sal['TotalPayBenefits'].argmin()  #This returns where to find the employee in the dataset"
   ]
  },
  {
   "cell_type": "code",
   "execution_count": 15,
   "id": "hybrid-apollo",
   "metadata": {
    "execution": {
     "iopub.execute_input": "2021-05-02T10:18:30.100728Z",
     "iopub.status.busy": "2021-05-02T10:18:30.100011Z",
     "iopub.status.idle": "2021-05-02T10:18:30.109239Z",
     "shell.execute_reply": "2021-05-02T10:18:30.108694Z"
    },
    "papermill": {
     "duration": 0.038698,
     "end_time": "2021-05-02T10:18:30.109416",
     "exception": false,
     "start_time": "2021-05-02T10:18:30.070718",
     "status": "completed"
    },
    "tags": []
   },
   "outputs": [
    {
     "data": {
      "text/plain": [
       "Id                                      148654\n",
       "EmployeeName                         Joe Lopez\n",
       "JobTitle            Counselor, Log Cabin Ranch\n",
       "BasePay                                   0.00\n",
       "OvertimePay                               0.00\n",
       "OtherPay                               -618.13\n",
       "Benefits                                  0.00\n",
       "TotalPay                               -618.13\n",
       "TotalPayBenefits                       -618.13\n",
       "Year                                      2014\n",
       "Notes                                      NaN\n",
       "Agency                           San Francisco\n",
       "Status                                      PT\n",
       "Name: 148653, dtype: object"
      ]
     },
     "execution_count": 15,
     "metadata": {},
     "output_type": "execute_result"
    }
   ],
   "source": [
    "df_sal.iloc[df_sal['TotalPayBenefits'].argmin()]"
   ]
  },
  {
   "cell_type": "code",
   "execution_count": 16,
   "id": "excess-example",
   "metadata": {
    "execution": {
     "iopub.execute_input": "2021-05-02T10:18:30.167954Z",
     "iopub.status.busy": "2021-05-02T10:18:30.167241Z",
     "iopub.status.idle": "2021-05-02T10:18:30.183764Z",
     "shell.execute_reply": "2021-05-02T10:18:30.183171Z"
    },
    "papermill": {
     "duration": 0.047656,
     "end_time": "2021-05-02T10:18:30.183909",
     "exception": false,
     "start_time": "2021-05-02T10:18:30.136253",
     "status": "completed"
    },
    "tags": []
   },
   "outputs": [
    {
     "data": {
      "text/html": [
       "<div>\n",
       "<style scoped>\n",
       "    .dataframe tbody tr th:only-of-type {\n",
       "        vertical-align: middle;\n",
       "    }\n",
       "\n",
       "    .dataframe tbody tr th {\n",
       "        vertical-align: top;\n",
       "    }\n",
       "\n",
       "    .dataframe thead th {\n",
       "        text-align: right;\n",
       "    }\n",
       "</style>\n",
       "<table border=\"1\" class=\"dataframe\">\n",
       "  <thead>\n",
       "    <tr style=\"text-align: right;\">\n",
       "      <th></th>\n",
       "      <th>Id</th>\n",
       "      <th>EmployeeName</th>\n",
       "      <th>JobTitle</th>\n",
       "      <th>BasePay</th>\n",
       "      <th>OvertimePay</th>\n",
       "      <th>OtherPay</th>\n",
       "      <th>Benefits</th>\n",
       "      <th>TotalPay</th>\n",
       "      <th>TotalPayBenefits</th>\n",
       "      <th>Year</th>\n",
       "      <th>Notes</th>\n",
       "      <th>Agency</th>\n",
       "      <th>Status</th>\n",
       "    </tr>\n",
       "  </thead>\n",
       "  <tbody>\n",
       "    <tr>\n",
       "      <th>148653</th>\n",
       "      <td>148654</td>\n",
       "      <td>Joe Lopez</td>\n",
       "      <td>Counselor, Log Cabin Ranch</td>\n",
       "      <td>0.00</td>\n",
       "      <td>0.00</td>\n",
       "      <td>-618.13</td>\n",
       "      <td>0.00</td>\n",
       "      <td>-618.13</td>\n",
       "      <td>-618.13</td>\n",
       "      <td>2014</td>\n",
       "      <td>NaN</td>\n",
       "      <td>San Francisco</td>\n",
       "      <td>PT</td>\n",
       "    </tr>\n",
       "  </tbody>\n",
       "</table>\n",
       "</div>"
      ],
      "text/plain": [
       "            Id EmployeeName                    JobTitle BasePay OvertimePay  \\\n",
       "148653  148654    Joe Lopez  Counselor, Log Cabin Ranch    0.00        0.00   \n",
       "\n",
       "       OtherPay Benefits  TotalPay  TotalPayBenefits  Year  Notes  \\\n",
       "148653  -618.13     0.00   -618.13           -618.13  2014    NaN   \n",
       "\n",
       "               Agency Status  \n",
       "148653  San Francisco     PT  "
      ]
     },
     "execution_count": 16,
     "metadata": {},
     "output_type": "execute_result"
    }
   ],
   "source": [
    "df_sal[df_sal['TotalPayBenefits'] == df_sal['TotalPayBenefits'].min()]"
   ]
  },
  {
   "cell_type": "code",
   "execution_count": 17,
   "id": "owned-amino",
   "metadata": {
    "execution": {
     "iopub.execute_input": "2021-05-02T10:18:30.257826Z",
     "iopub.status.busy": "2021-05-02T10:18:30.257082Z",
     "iopub.status.idle": "2021-05-02T10:18:30.278507Z",
     "shell.execute_reply": "2021-05-02T10:18:30.277779Z"
    },
    "papermill": {
     "duration": 0.067268,
     "end_time": "2021-05-02T10:18:30.278662",
     "exception": false,
     "start_time": "2021-05-02T10:18:30.211394",
     "status": "completed"
    },
    "tags": []
   },
   "outputs": [
    {
     "data": {
      "text/plain": [
       "Year\n",
       "2011    71744.103871\n",
       "2012    74113.262265\n",
       "2013    77611.443142\n",
       "2014    75463.918140\n",
       "Name: TotalPay, dtype: float64"
      ]
     },
     "execution_count": 17,
     "metadata": {},
     "output_type": "execute_result"
    }
   ],
   "source": [
    "df_sal.groupby('Year').mean()['TotalPay']"
   ]
  },
  {
   "cell_type": "code",
   "execution_count": 18,
   "id": "bridal-polish",
   "metadata": {
    "execution": {
     "iopub.execute_input": "2021-05-02T10:18:30.351550Z",
     "iopub.status.busy": "2021-05-02T10:18:30.350509Z",
     "iopub.status.idle": "2021-05-02T10:18:30.363431Z",
     "shell.execute_reply": "2021-05-02T10:18:30.362722Z"
    },
    "papermill": {
     "duration": 0.055123,
     "end_time": "2021-05-02T10:18:30.363592",
     "exception": false,
     "start_time": "2021-05-02T10:18:30.308469",
     "status": "completed"
    },
    "tags": []
   },
   "outputs": [
    {
     "data": {
      "text/plain": [
       "array(['GENERAL MANAGER-METROPOLITAN TRANSIT AUTHORITY',\n",
       "       'CAPTAIN III (POLICE DEPARTMENT)',\n",
       "       'WIRE ROPE CABLE MAINTENANCE MECHANIC', ..., 'Conversion',\n",
       "       'Cashier 3', 'Not provided'], dtype=object)"
      ]
     },
     "execution_count": 18,
     "metadata": {},
     "output_type": "execute_result"
    }
   ],
   "source": [
    "df_sal['JobTitle'].unique()\n",
    "#len(df_sal['JobTitle'].unique())"
   ]
  },
  {
   "cell_type": "code",
   "execution_count": 19,
   "id": "demonstrated-graham",
   "metadata": {
    "execution": {
     "iopub.execute_input": "2021-05-02T10:18:30.440284Z",
     "iopub.status.busy": "2021-05-02T10:18:30.439086Z",
     "iopub.status.idle": "2021-05-02T10:18:30.461693Z",
     "shell.execute_reply": "2021-05-02T10:18:30.461099Z"
    },
    "papermill": {
     "duration": 0.070141,
     "end_time": "2021-05-02T10:18:30.461839",
     "exception": false,
     "start_time": "2021-05-02T10:18:30.391698",
     "status": "completed"
    },
    "tags": []
   },
   "outputs": [
    {
     "data": {
      "text/plain": [
       "2159"
      ]
     },
     "execution_count": 19,
     "metadata": {},
     "output_type": "execute_result"
    }
   ],
   "source": [
    "df_sal['JobTitle'].nunique()"
   ]
  },
  {
   "cell_type": "code",
   "execution_count": 20,
   "id": "domestic-cursor",
   "metadata": {
    "execution": {
     "iopub.execute_input": "2021-05-02T10:18:30.561690Z",
     "iopub.status.busy": "2021-05-02T10:18:30.560648Z",
     "iopub.status.idle": "2021-05-02T10:18:30.567744Z",
     "shell.execute_reply": "2021-05-02T10:18:30.568221Z"
    },
    "papermill": {
     "duration": 0.077732,
     "end_time": "2021-05-02T10:18:30.568426",
     "exception": false,
     "start_time": "2021-05-02T10:18:30.490694",
     "status": "completed"
    },
    "tags": []
   },
   "outputs": [
    {
     "data": {
      "text/plain": [
       "Transit Operator                7036\n",
       "Special Nurse                   4389\n",
       "Registered Nurse                3736\n",
       "Public Svc Aide-Public Works    2518\n",
       "Police Officer 3                2421\n",
       "Custodian                       2418\n",
       "TRANSIT OPERATOR                2388\n",
       "Firefighter                     2359\n",
       "Recreation Leader               1971\n",
       "Patient Care Assistant          1945\n",
       "Name: JobTitle, dtype: int64"
      ]
     },
     "execution_count": 20,
     "metadata": {},
     "output_type": "execute_result"
    }
   ],
   "source": [
    "df_sal['JobTitle'].value_counts().head(10)"
   ]
  },
  {
   "cell_type": "code",
   "execution_count": 21,
   "id": "buried-burton",
   "metadata": {
    "execution": {
     "iopub.execute_input": "2021-05-02T10:18:30.632486Z",
     "iopub.status.busy": "2021-05-02T10:18:30.631822Z",
     "iopub.status.idle": "2021-05-02T10:18:30.653379Z",
     "shell.execute_reply": "2021-05-02T10:18:30.652720Z"
    },
    "papermill": {
     "duration": 0.055535,
     "end_time": "2021-05-02T10:18:30.653520",
     "exception": false,
     "start_time": "2021-05-02T10:18:30.597985",
     "status": "completed"
    },
    "tags": []
   },
   "outputs": [
    {
     "data": {
      "text/plain": [
       "Transit Operator                  False\n",
       "Special Nurse                     False\n",
       "Registered Nurse                  False\n",
       "Public Svc Aide-Public Works      False\n",
       "Custodian                         False\n",
       "                                  ...  \n",
       "Public Defender                    True\n",
       "Director, Info Tech Group          True\n",
       "Water Meter Shop Supervisor 1      True\n",
       "Sctry, Juv Probation Comm          True\n",
       "Chief Deputy Adlt Probation Of     True\n",
       "Name: JobTitle, Length: 1051, dtype: bool"
      ]
     },
     "execution_count": 21,
     "metadata": {},
     "output_type": "execute_result"
    }
   ],
   "source": [
    "df_sal[df_sal['Year']== 2013]['JobTitle'].value_counts() == 1"
   ]
  },
  {
   "cell_type": "code",
   "execution_count": 22,
   "id": "close-patient",
   "metadata": {
    "execution": {
     "iopub.execute_input": "2021-05-02T10:18:30.718623Z",
     "iopub.status.busy": "2021-05-02T10:18:30.717934Z",
     "iopub.status.idle": "2021-05-02T10:18:30.737255Z",
     "shell.execute_reply": "2021-05-02T10:18:30.737792Z"
    },
    "papermill": {
     "duration": 0.054517,
     "end_time": "2021-05-02T10:18:30.737961",
     "exception": false,
     "start_time": "2021-05-02T10:18:30.683444",
     "status": "completed"
    },
    "tags": []
   },
   "outputs": [
    {
     "data": {
      "text/plain": [
       "202"
      ]
     },
     "execution_count": 22,
     "metadata": {},
     "output_type": "execute_result"
    }
   ],
   "source": [
    "sum(df_sal[df_sal['Year']== 2013]['JobTitle'].value_counts() == 1 )"
   ]
  },
  {
   "cell_type": "code",
   "execution_count": 23,
   "id": "listed-moldova",
   "metadata": {
    "execution": {
     "iopub.execute_input": "2021-05-02T10:18:30.802172Z",
     "iopub.status.busy": "2021-05-02T10:18:30.801531Z",
     "iopub.status.idle": "2021-05-02T10:18:30.808195Z",
     "shell.execute_reply": "2021-05-02T10:18:30.808748Z"
    },
    "papermill": {
     "duration": 0.040158,
     "end_time": "2021-05-02T10:18:30.808926",
     "exception": false,
     "start_time": "2021-05-02T10:18:30.768768",
     "status": "completed"
    },
    "tags": []
   },
   "outputs": [
    {
     "data": {
      "text/plain": [
       "0         GENERAL MANAGER-METROPOLITAN TRANSIT AUTHORITY\n",
       "1                        CAPTAIN III (POLICE DEPARTMENT)\n",
       "2                        CAPTAIN III (POLICE DEPARTMENT)\n",
       "3                   WIRE ROPE CABLE MAINTENANCE MECHANIC\n",
       "4           DEPUTY CHIEF OF DEPARTMENT,(FIRE DEPARTMENT)\n",
       "                               ...                      \n",
       "148649                                         Custodian\n",
       "148650                                      Not provided\n",
       "148651                                      Not provided\n",
       "148652                                      Not provided\n",
       "148653                        Counselor, Log Cabin Ranch\n",
       "Name: JobTitle, Length: 148654, dtype: object"
      ]
     },
     "execution_count": 23,
     "metadata": {},
     "output_type": "execute_result"
    }
   ],
   "source": [
    "df_sal['JobTitle']"
   ]
  },
  {
   "cell_type": "code",
   "execution_count": 24,
   "id": "coordinate-essex",
   "metadata": {
    "execution": {
     "iopub.execute_input": "2021-05-02T10:18:30.873787Z",
     "iopub.status.busy": "2021-05-02T10:18:30.872792Z",
     "iopub.status.idle": "2021-05-02T10:18:30.877252Z",
     "shell.execute_reply": "2021-05-02T10:18:30.877720Z"
    },
    "papermill": {
     "duration": 0.038501,
     "end_time": "2021-05-02T10:18:30.877900",
     "exception": false,
     "start_time": "2021-05-02T10:18:30.839399",
     "status": "completed"
    },
    "tags": []
   },
   "outputs": [],
   "source": [
    "def chief_string(title):\n",
    "    if 'chief' in title.lower().split():\n",
    "        return True\n",
    "    else:\n",
    "        return False"
   ]
  },
  {
   "cell_type": "code",
   "execution_count": 25,
   "id": "powered-current",
   "metadata": {
    "execution": {
     "iopub.execute_input": "2021-05-02T10:18:30.944446Z",
     "iopub.status.busy": "2021-05-02T10:18:30.943479Z",
     "iopub.status.idle": "2021-05-02T10:18:30.948483Z",
     "shell.execute_reply": "2021-05-02T10:18:30.948931Z"
    },
    "papermill": {
     "duration": 0.040696,
     "end_time": "2021-05-02T10:18:30.949097",
     "exception": false,
     "start_time": "2021-05-02T10:18:30.908401",
     "status": "completed"
    },
    "tags": []
   },
   "outputs": [
    {
     "data": {
      "text/plain": [
       "False"
      ]
     },
     "execution_count": 25,
     "metadata": {},
     "output_type": "execute_result"
    }
   ],
   "source": [
    "chief_string('Custodian')"
   ]
  },
  {
   "cell_type": "code",
   "execution_count": 26,
   "id": "cathedral-geneva",
   "metadata": {
    "execution": {
     "iopub.execute_input": "2021-05-02T10:18:31.015772Z",
     "iopub.status.busy": "2021-05-02T10:18:31.014795Z",
     "iopub.status.idle": "2021-05-02T10:18:31.019965Z",
     "shell.execute_reply": "2021-05-02T10:18:31.020446Z"
    },
    "papermill": {
     "duration": 0.04061,
     "end_time": "2021-05-02T10:18:31.020624",
     "exception": false,
     "start_time": "2021-05-02T10:18:30.980014",
     "status": "completed"
    },
    "tags": []
   },
   "outputs": [
    {
     "data": {
      "text/plain": [
       "True"
      ]
     },
     "execution_count": 26,
     "metadata": {},
     "output_type": "execute_result"
    }
   ],
   "source": [
    "chief_string('DEPUTY CHIEF OF DEPARTMENT')"
   ]
  },
  {
   "cell_type": "code",
   "execution_count": 27,
   "id": "occasional-handbook",
   "metadata": {
    "execution": {
     "iopub.execute_input": "2021-05-02T10:18:31.087254Z",
     "iopub.status.busy": "2021-05-02T10:18:31.086247Z",
     "iopub.status.idle": "2021-05-02T10:18:31.208315Z",
     "shell.execute_reply": "2021-05-02T10:18:31.207740Z"
    },
    "papermill": {
     "duration": 0.156417,
     "end_time": "2021-05-02T10:18:31.208469",
     "exception": false,
     "start_time": "2021-05-02T10:18:31.052052",
     "status": "completed"
    },
    "tags": []
   },
   "outputs": [
    {
     "data": {
      "text/plain": [
       "0         False\n",
       "1         False\n",
       "2         False\n",
       "3         False\n",
       "4          True\n",
       "          ...  \n",
       "148649    False\n",
       "148650    False\n",
       "148651    False\n",
       "148652    False\n",
       "148653    False\n",
       "Name: JobTitle, Length: 148654, dtype: bool"
      ]
     },
     "execution_count": 27,
     "metadata": {},
     "output_type": "execute_result"
    }
   ],
   "source": [
    "df_sal['JobTitle'].apply(lambda x: chief_string(x))"
   ]
  },
  {
   "cell_type": "code",
   "execution_count": 28,
   "id": "incorporated-judge",
   "metadata": {
    "execution": {
     "iopub.execute_input": "2021-05-02T10:18:31.278511Z",
     "iopub.status.busy": "2021-05-02T10:18:31.277545Z",
     "iopub.status.idle": "2021-05-02T10:18:31.421894Z",
     "shell.execute_reply": "2021-05-02T10:18:31.421244Z"
    },
    "papermill": {
     "duration": 0.181732,
     "end_time": "2021-05-02T10:18:31.422056",
     "exception": false,
     "start_time": "2021-05-02T10:18:31.240324",
     "status": "completed"
    },
    "tags": []
   },
   "outputs": [
    {
     "data": {
      "text/plain": [
       "477"
      ]
     },
     "execution_count": 28,
     "metadata": {},
     "output_type": "execute_result"
    }
   ],
   "source": [
    "sum(df_sal['JobTitle'].apply(lambda x: chief_string(x)))"
   ]
  },
  {
   "cell_type": "code",
   "execution_count": 29,
   "id": "polyphonic-climb",
   "metadata": {
    "execution": {
     "iopub.execute_input": "2021-05-02T10:18:31.494768Z",
     "iopub.status.busy": "2021-05-02T10:18:31.494049Z",
     "iopub.status.idle": "2021-05-02T10:18:31.577721Z",
     "shell.execute_reply": "2021-05-02T10:18:31.577113Z"
    },
    "papermill": {
     "duration": 0.122633,
     "end_time": "2021-05-02T10:18:31.577896",
     "exception": false,
     "start_time": "2021-05-02T10:18:31.455263",
     "status": "completed"
    },
    "tags": []
   },
   "outputs": [
    {
     "data": {
      "text/html": [
       "<div>\n",
       "<style scoped>\n",
       "    .dataframe tbody tr th:only-of-type {\n",
       "        vertical-align: middle;\n",
       "    }\n",
       "\n",
       "    .dataframe tbody tr th {\n",
       "        vertical-align: top;\n",
       "    }\n",
       "\n",
       "    .dataframe thead th {\n",
       "        text-align: right;\n",
       "    }\n",
       "</style>\n",
       "<table border=\"1\" class=\"dataframe\">\n",
       "  <thead>\n",
       "    <tr style=\"text-align: right;\">\n",
       "      <th></th>\n",
       "      <th>JobTitle</th>\n",
       "      <th>title_len</th>\n",
       "    </tr>\n",
       "  </thead>\n",
       "  <tbody>\n",
       "    <tr>\n",
       "      <th>0</th>\n",
       "      <td>GENERAL MANAGER-METROPOLITAN TRANSIT AUTHORITY</td>\n",
       "      <td>46</td>\n",
       "    </tr>\n",
       "    <tr>\n",
       "      <th>1</th>\n",
       "      <td>CAPTAIN III (POLICE DEPARTMENT)</td>\n",
       "      <td>31</td>\n",
       "    </tr>\n",
       "    <tr>\n",
       "      <th>2</th>\n",
       "      <td>CAPTAIN III (POLICE DEPARTMENT)</td>\n",
       "      <td>31</td>\n",
       "    </tr>\n",
       "    <tr>\n",
       "      <th>3</th>\n",
       "      <td>WIRE ROPE CABLE MAINTENANCE MECHANIC</td>\n",
       "      <td>36</td>\n",
       "    </tr>\n",
       "    <tr>\n",
       "      <th>4</th>\n",
       "      <td>DEPUTY CHIEF OF DEPARTMENT,(FIRE DEPARTMENT)</td>\n",
       "      <td>44</td>\n",
       "    </tr>\n",
       "    <tr>\n",
       "      <th>...</th>\n",
       "      <td>...</td>\n",
       "      <td>...</td>\n",
       "    </tr>\n",
       "    <tr>\n",
       "      <th>148649</th>\n",
       "      <td>Custodian</td>\n",
       "      <td>9</td>\n",
       "    </tr>\n",
       "    <tr>\n",
       "      <th>148650</th>\n",
       "      <td>Not provided</td>\n",
       "      <td>12</td>\n",
       "    </tr>\n",
       "    <tr>\n",
       "      <th>148651</th>\n",
       "      <td>Not provided</td>\n",
       "      <td>12</td>\n",
       "    </tr>\n",
       "    <tr>\n",
       "      <th>148652</th>\n",
       "      <td>Not provided</td>\n",
       "      <td>12</td>\n",
       "    </tr>\n",
       "    <tr>\n",
       "      <th>148653</th>\n",
       "      <td>Counselor, Log Cabin Ranch</td>\n",
       "      <td>26</td>\n",
       "    </tr>\n",
       "  </tbody>\n",
       "</table>\n",
       "<p>148654 rows × 2 columns</p>\n",
       "</div>"
      ],
      "text/plain": [
       "                                              JobTitle  title_len\n",
       "0       GENERAL MANAGER-METROPOLITAN TRANSIT AUTHORITY         46\n",
       "1                      CAPTAIN III (POLICE DEPARTMENT)         31\n",
       "2                      CAPTAIN III (POLICE DEPARTMENT)         31\n",
       "3                 WIRE ROPE CABLE MAINTENANCE MECHANIC         36\n",
       "4         DEPUTY CHIEF OF DEPARTMENT,(FIRE DEPARTMENT)         44\n",
       "...                                                ...        ...\n",
       "148649                                       Custodian          9\n",
       "148650                                    Not provided         12\n",
       "148651                                    Not provided         12\n",
       "148652                                    Not provided         12\n",
       "148653                      Counselor, Log Cabin Ranch         26\n",
       "\n",
       "[148654 rows x 2 columns]"
      ]
     },
     "execution_count": 29,
     "metadata": {},
     "output_type": "execute_result"
    }
   ],
   "source": [
    "#is there a correlation between length of Job Title and Salary?\n",
    "df_sal['title_len'] = df_sal['JobTitle'].apply(len)\n",
    "df_sal[['JobTitle', 'title_len']]"
   ]
  },
  {
   "cell_type": "code",
   "execution_count": 30,
   "id": "frozen-publicity",
   "metadata": {
    "execution": {
     "iopub.execute_input": "2021-05-02T10:18:31.651243Z",
     "iopub.status.busy": "2021-05-02T10:18:31.650552Z",
     "iopub.status.idle": "2021-05-02T10:18:31.666238Z",
     "shell.execute_reply": "2021-05-02T10:18:31.665597Z"
    },
    "papermill": {
     "duration": 0.055171,
     "end_time": "2021-05-02T10:18:31.666391",
     "exception": false,
     "start_time": "2021-05-02T10:18:31.611220",
     "status": "completed"
    },
    "tags": []
   },
   "outputs": [
    {
     "data": {
      "text/html": [
       "<div>\n",
       "<style scoped>\n",
       "    .dataframe tbody tr th:only-of-type {\n",
       "        vertical-align: middle;\n",
       "    }\n",
       "\n",
       "    .dataframe tbody tr th {\n",
       "        vertical-align: top;\n",
       "    }\n",
       "\n",
       "    .dataframe thead th {\n",
       "        text-align: right;\n",
       "    }\n",
       "</style>\n",
       "<table border=\"1\" class=\"dataframe\">\n",
       "  <thead>\n",
       "    <tr style=\"text-align: right;\">\n",
       "      <th></th>\n",
       "      <th>TotalPayBenefits</th>\n",
       "      <th>title_len</th>\n",
       "    </tr>\n",
       "  </thead>\n",
       "  <tbody>\n",
       "    <tr>\n",
       "      <th>TotalPayBenefits</th>\n",
       "      <td>1.000000</td>\n",
       "      <td>-0.036878</td>\n",
       "    </tr>\n",
       "    <tr>\n",
       "      <th>title_len</th>\n",
       "      <td>-0.036878</td>\n",
       "      <td>1.000000</td>\n",
       "    </tr>\n",
       "  </tbody>\n",
       "</table>\n",
       "</div>"
      ],
      "text/plain": [
       "                  TotalPayBenefits  title_len\n",
       "TotalPayBenefits          1.000000  -0.036878\n",
       "title_len                -0.036878   1.000000"
      ]
     },
     "execution_count": 30,
     "metadata": {},
     "output_type": "execute_result"
    }
   ],
   "source": [
    "df_sal[['TotalPayBenefits', 'title_len']].corr()\n",
    "#There does not seem to be a correlation between Job Title length and Salary"
   ]
  }
 ],
 "metadata": {
  "kernelspec": {
   "display_name": "Python 3",
   "language": "python",
   "name": "python3"
  },
  "language_info": {
   "codemirror_mode": {
    "name": "ipython",
    "version": 3
   },
   "file_extension": ".py",
   "mimetype": "text/x-python",
   "name": "python",
   "nbconvert_exporter": "python",
   "pygments_lexer": "ipython3",
   "version": "3.7.10"
  },
  "papermill": {
   "default_parameters": {},
   "duration": 49.969396,
   "end_time": "2021-05-02T10:18:32.927595",
   "environment_variables": {},
   "exception": null,
   "input_path": "__notebook__.ipynb",
   "output_path": "__notebook__.ipynb",
   "parameters": {},
   "start_time": "2021-05-02T10:17:42.958199",
   "version": "2.3.3"
  }
 },
 "nbformat": 4,
 "nbformat_minor": 5
}
