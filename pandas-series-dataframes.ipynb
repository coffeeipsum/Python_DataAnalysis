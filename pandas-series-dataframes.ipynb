{
 "cells": [
  {
   "cell_type": "code",
   "execution_count": 1,
   "id": "advance-confusion",
   "metadata": {
    "_cell_guid": "b1076dfc-b9ad-4769-8c92-a6c4dae69d19",
    "_uuid": "8f2839f25d086af736a60e9eeb907d3b93b6e0e5",
    "execution": {
     "iopub.execute_input": "2021-05-08T10:57:55.145264Z",
     "iopub.status.busy": "2021-05-08T10:57:55.144494Z",
     "iopub.status.idle": "2021-05-08T10:57:55.148507Z",
     "shell.execute_reply": "2021-05-08T10:57:55.147811Z"
    },
    "papermill": {
     "duration": 0.055746,
     "end_time": "2021-05-08T10:57:55.148705",
     "exception": false,
     "start_time": "2021-05-08T10:57:55.092959",
     "status": "completed"
    },
    "tags": []
   },
   "outputs": [],
   "source": [
    "# This Python 3 environment comes with many helpful analytics libraries installed\n",
    "# It is defined by the kaggle/python Docker image: https://github.com/kaggle/docker-python\n",
    "# For example, here's several helpful packages to load\n",
    "\n",
    "import numpy as np # linear algebra\n",
    "import pandas as pd # data processing, CSV file I/O (e.g. pd.read_csv)\n",
    "\n",
    "# Input data files are available in the read-only \"../input/\" directory\n",
    "# For example, running this (by clicking run or pressing Shift+Enter) will list all files under the input directory\n",
    "\n",
    "import os\n",
    "for dirname, _, filenames in os.walk('/kaggle/input'):\n",
    "    for filename in filenames:\n",
    "        print(os.path.join(dirname, filename))\n",
    "\n",
    "# You can write up to 20GB to the current directory (/kaggle/working/) that gets preserved as output when you create a version using \"Save & Run All\" \n",
    "# You can also write temporary files to /kaggle/temp/, but they won't be saved outside of the current session"
   ]
  },
  {
   "cell_type": "code",
   "execution_count": 2,
   "id": "persistent-edwards",
   "metadata": {
    "execution": {
     "iopub.execute_input": "2021-05-08T10:57:55.228009Z",
     "iopub.status.busy": "2021-05-08T10:57:55.227128Z",
     "iopub.status.idle": "2021-05-08T10:57:55.230548Z",
     "shell.execute_reply": "2021-05-08T10:57:55.229985Z"
    },
    "papermill": {
     "duration": 0.04463,
     "end_time": "2021-05-08T10:57:55.230715",
     "exception": false,
     "start_time": "2021-05-08T10:57:55.186085",
     "status": "completed"
    },
    "tags": []
   },
   "outputs": [],
   "source": [
    "import numpy as np\n",
    "import pandas as pd"
   ]
  },
  {
   "cell_type": "code",
   "execution_count": 3,
   "id": "alternative-economy",
   "metadata": {
    "execution": {
     "iopub.execute_input": "2021-05-08T10:57:55.311880Z",
     "iopub.status.busy": "2021-05-08T10:57:55.311173Z",
     "iopub.status.idle": "2021-05-08T10:57:55.313361Z",
     "shell.execute_reply": "2021-05-08T10:57:55.314101Z"
    },
    "papermill": {
     "duration": 0.04527,
     "end_time": "2021-05-08T10:57:55.314276",
     "exception": false,
     "start_time": "2021-05-08T10:57:55.269006",
     "status": "completed"
    },
    "tags": []
   },
   "outputs": [],
   "source": [
    "labels = ['a', 'b', 'c']        #list\n",
    "my_data = [10,20,30]            #list\n",
    "arr = np.array(my_data)        # numpy array\n",
    "d = {'a':10, 'b':20, 'c':30}   # dictionary"
   ]
  },
  {
   "cell_type": "code",
   "execution_count": 4,
   "id": "overhead-faith",
   "metadata": {
    "execution": {
     "iopub.execute_input": "2021-05-08T10:57:55.396000Z",
     "iopub.status.busy": "2021-05-08T10:57:55.395313Z",
     "iopub.status.idle": "2021-05-08T10:57:55.406730Z",
     "shell.execute_reply": "2021-05-08T10:57:55.407224Z"
    },
    "papermill": {
     "duration": 0.053994,
     "end_time": "2021-05-08T10:57:55.407393",
     "exception": false,
     "start_time": "2021-05-08T10:57:55.353399",
     "status": "completed"
    },
    "tags": []
   },
   "outputs": [
    {
     "data": {
      "text/plain": [
       "0    10\n",
       "1    20\n",
       "2    30\n",
       "dtype: int64"
      ]
     },
     "execution_count": 4,
     "metadata": {},
     "output_type": "execute_result"
    }
   ],
   "source": [
    "pd.Series(data = my_data)"
   ]
  },
  {
   "cell_type": "code",
   "execution_count": 5,
   "id": "czech-advice",
   "metadata": {
    "execution": {
     "iopub.execute_input": "2021-05-08T10:57:55.487981Z",
     "iopub.status.busy": "2021-05-08T10:57:55.487326Z",
     "iopub.status.idle": "2021-05-08T10:57:55.501354Z",
     "shell.execute_reply": "2021-05-08T10:57:55.502057Z"
    },
    "papermill": {
     "duration": 0.056244,
     "end_time": "2021-05-08T10:57:55.502238",
     "exception": false,
     "start_time": "2021-05-08T10:57:55.445994",
     "status": "completed"
    },
    "tags": []
   },
   "outputs": [
    {
     "data": {
      "text/plain": [
       "a    10\n",
       "b    20\n",
       "c    30\n",
       "dtype: int64"
      ]
     },
     "execution_count": 5,
     "metadata": {},
     "output_type": "execute_result"
    }
   ],
   "source": [
    "pd.Series(data=my_data,index=labels)\n",
    "# pd.Series(my_data,labels)"
   ]
  },
  {
   "cell_type": "code",
   "execution_count": 6,
   "id": "missing-caution",
   "metadata": {
    "execution": {
     "iopub.execute_input": "2021-05-08T10:57:55.584183Z",
     "iopub.status.busy": "2021-05-08T10:57:55.583516Z",
     "iopub.status.idle": "2021-05-08T10:57:55.589753Z",
     "shell.execute_reply": "2021-05-08T10:57:55.590203Z"
    },
    "papermill": {
     "duration": 0.048967,
     "end_time": "2021-05-08T10:57:55.590378",
     "exception": false,
     "start_time": "2021-05-08T10:57:55.541411",
     "status": "completed"
    },
    "tags": []
   },
   "outputs": [
    {
     "data": {
      "text/plain": [
       "a    10\n",
       "b    20\n",
       "c    30\n",
       "dtype: int64"
      ]
     },
     "execution_count": 6,
     "metadata": {},
     "output_type": "execute_result"
    }
   ],
   "source": [
    "pd.Series(arr,labels)"
   ]
  },
  {
   "cell_type": "code",
   "execution_count": 7,
   "id": "oriented-horizontal",
   "metadata": {
    "execution": {
     "iopub.execute_input": "2021-05-08T10:57:55.672268Z",
     "iopub.status.busy": "2021-05-08T10:57:55.671613Z",
     "iopub.status.idle": "2021-05-08T10:57:55.679362Z",
     "shell.execute_reply": "2021-05-08T10:57:55.678721Z"
    },
    "papermill": {
     "duration": 0.049761,
     "end_time": "2021-05-08T10:57:55.679502",
     "exception": false,
     "start_time": "2021-05-08T10:57:55.629741",
     "status": "completed"
    },
    "tags": []
   },
   "outputs": [
    {
     "data": {
      "text/plain": [
       "a    10\n",
       "b    20\n",
       "c    30\n",
       "dtype: int64"
      ]
     },
     "execution_count": 7,
     "metadata": {},
     "output_type": "execute_result"
    }
   ],
   "source": [
    "pd.Series(d)"
   ]
  },
  {
   "cell_type": "code",
   "execution_count": 8,
   "id": "emerging-third",
   "metadata": {
    "execution": {
     "iopub.execute_input": "2021-05-08T10:57:55.768330Z",
     "iopub.status.busy": "2021-05-08T10:57:55.767429Z",
     "iopub.status.idle": "2021-05-08T10:57:55.771497Z",
     "shell.execute_reply": "2021-05-08T10:57:55.772066Z"
    },
    "papermill": {
     "duration": 0.053194,
     "end_time": "2021-05-08T10:57:55.772248",
     "exception": false,
     "start_time": "2021-05-08T10:57:55.719054",
     "status": "completed"
    },
    "tags": []
   },
   "outputs": [
    {
     "data": {
      "text/plain": [
       "0      <built-in function sum>\n",
       "1    <built-in function print>\n",
       "2      <built-in function len>\n",
       "dtype: object"
      ]
     },
     "execution_count": 8,
     "metadata": {},
     "output_type": "execute_result"
    }
   ],
   "source": [
    "#Note that a Series can pretty much hold almost any data type as its data point\n",
    "pd.Series(data=[sum,print,len])"
   ]
  },
  {
   "cell_type": "code",
   "execution_count": 9,
   "id": "sublime-patient",
   "metadata": {
    "execution": {
     "iopub.execute_input": "2021-05-08T10:57:55.860058Z",
     "iopub.status.busy": "2021-05-08T10:57:55.859168Z",
     "iopub.status.idle": "2021-05-08T10:57:55.863519Z",
     "shell.execute_reply": "2021-05-08T10:57:55.862851Z"
    },
    "papermill": {
     "duration": 0.050494,
     "end_time": "2021-05-08T10:57:55.863694",
     "exception": false,
     "start_time": "2021-05-08T10:57:55.813200",
     "status": "completed"
    },
    "tags": []
   },
   "outputs": [],
   "source": [
    "ser1 = pd.Series([1,2,3,4],['USA','Germany','USSR','Japan'])"
   ]
  },
  {
   "cell_type": "code",
   "execution_count": 10,
   "id": "greatest-rolling",
   "metadata": {
    "execution": {
     "iopub.execute_input": "2021-05-08T10:57:55.949988Z",
     "iopub.status.busy": "2021-05-08T10:57:55.949233Z",
     "iopub.status.idle": "2021-05-08T10:57:55.953486Z",
     "shell.execute_reply": "2021-05-08T10:57:55.952940Z"
    },
    "papermill": {
     "duration": 0.049756,
     "end_time": "2021-05-08T10:57:55.953641",
     "exception": false,
     "start_time": "2021-05-08T10:57:55.903885",
     "status": "completed"
    },
    "tags": []
   },
   "outputs": [
    {
     "data": {
      "text/plain": [
       "USA        1\n",
       "Germany    2\n",
       "USSR       3\n",
       "Japan      4\n",
       "dtype: int64"
      ]
     },
     "execution_count": 10,
     "metadata": {},
     "output_type": "execute_result"
    }
   ],
   "source": [
    "ser1"
   ]
  },
  {
   "cell_type": "code",
   "execution_count": 11,
   "id": "pending-adelaide",
   "metadata": {
    "execution": {
     "iopub.execute_input": "2021-05-08T10:57:56.059681Z",
     "iopub.status.busy": "2021-05-08T10:57:56.058950Z",
     "iopub.status.idle": "2021-05-08T10:57:56.061881Z",
     "shell.execute_reply": "2021-05-08T10:57:56.061242Z"
    },
    "papermill": {
     "duration": 0.060656,
     "end_time": "2021-05-08T10:57:56.062035",
     "exception": false,
     "start_time": "2021-05-08T10:57:56.001379",
     "status": "completed"
    },
    "tags": []
   },
   "outputs": [],
   "source": [
    "ser2 = pd.Series([1,2,5,4],['USA','Germany','Italy','Japan'])"
   ]
  },
  {
   "cell_type": "code",
   "execution_count": 12,
   "id": "latest-thailand",
   "metadata": {
    "execution": {
     "iopub.execute_input": "2021-05-08T10:57:56.162781Z",
     "iopub.status.busy": "2021-05-08T10:57:56.161814Z",
     "iopub.status.idle": "2021-05-08T10:57:56.166895Z",
     "shell.execute_reply": "2021-05-08T10:57:56.166320Z"
    },
    "papermill": {
     "duration": 0.064306,
     "end_time": "2021-05-08T10:57:56.167042",
     "exception": false,
     "start_time": "2021-05-08T10:57:56.102736",
     "status": "completed"
    },
    "tags": []
   },
   "outputs": [
    {
     "data": {
      "text/plain": [
       "USA        1\n",
       "Germany    2\n",
       "Italy      5\n",
       "Japan      4\n",
       "dtype: int64"
      ]
     },
     "execution_count": 12,
     "metadata": {},
     "output_type": "execute_result"
    }
   ],
   "source": [
    "ser2"
   ]
  },
  {
   "cell_type": "code",
   "execution_count": 13,
   "id": "impressed-space",
   "metadata": {
    "execution": {
     "iopub.execute_input": "2021-05-08T10:57:56.259488Z",
     "iopub.status.busy": "2021-05-08T10:57:56.258490Z",
     "iopub.status.idle": "2021-05-08T10:57:56.262944Z",
     "shell.execute_reply": "2021-05-08T10:57:56.262311Z"
    },
    "papermill": {
     "duration": 0.054681,
     "end_time": "2021-05-08T10:57:56.263083",
     "exception": false,
     "start_time": "2021-05-08T10:57:56.208402",
     "status": "completed"
    },
    "tags": []
   },
   "outputs": [
    {
     "data": {
      "text/plain": [
       "1"
      ]
     },
     "execution_count": 13,
     "metadata": {},
     "output_type": "execute_result"
    }
   ],
   "source": [
    "ser1['USA']"
   ]
  },
  {
   "cell_type": "code",
   "execution_count": 14,
   "id": "sitting-pendant",
   "metadata": {
    "execution": {
     "iopub.execute_input": "2021-05-08T10:57:56.367057Z",
     "iopub.status.busy": "2021-05-08T10:57:56.366116Z",
     "iopub.status.idle": "2021-05-08T10:57:56.396006Z",
     "shell.execute_reply": "2021-05-08T10:57:56.396642Z"
    },
    "papermill": {
     "duration": 0.085538,
     "end_time": "2021-05-08T10:57:56.396847",
     "exception": false,
     "start_time": "2021-05-08T10:57:56.311309",
     "status": "completed"
    },
    "tags": []
   },
   "outputs": [
    {
     "data": {
      "text/plain": [
       "Germany    4.0\n",
       "Italy      NaN\n",
       "Japan      8.0\n",
       "USA        2.0\n",
       "USSR       NaN\n",
       "dtype: float64"
      ]
     },
     "execution_count": 14,
     "metadata": {},
     "output_type": "execute_result"
    }
   ],
   "source": [
    "ser1 + ser2\n",
    "#Pandas and Numpy will converted integers into Floats on operations"
   ]
  },
  {
   "cell_type": "code",
   "execution_count": 15,
   "id": "intermediate-arrangement",
   "metadata": {
    "execution": {
     "iopub.execute_input": "2021-05-08T10:57:56.522835Z",
     "iopub.status.busy": "2021-05-08T10:57:56.522165Z",
     "iopub.status.idle": "2021-05-08T10:57:56.524355Z",
     "shell.execute_reply": "2021-05-08T10:57:56.525067Z"
    },
    "papermill": {
     "duration": 0.067787,
     "end_time": "2021-05-08T10:57:56.525263",
     "exception": false,
     "start_time": "2021-05-08T10:57:56.457476",
     "status": "completed"
    },
    "tags": []
   },
   "outputs": [],
   "source": [
    "#Pandas DataFrame\n",
    "from numpy.random import randn\n",
    "np.random.seed(101)"
   ]
  },
  {
   "cell_type": "code",
   "execution_count": 16,
   "id": "burning-increase",
   "metadata": {
    "execution": {
     "iopub.execute_input": "2021-05-08T10:57:56.618436Z",
     "iopub.status.busy": "2021-05-08T10:57:56.617768Z",
     "iopub.status.idle": "2021-05-08T10:57:56.625252Z",
     "shell.execute_reply": "2021-05-08T10:57:56.624708Z"
    },
    "papermill": {
     "duration": 0.053213,
     "end_time": "2021-05-08T10:57:56.625389",
     "exception": false,
     "start_time": "2021-05-08T10:57:56.572176",
     "status": "completed"
    },
    "tags": []
   },
   "outputs": [],
   "source": [
    "df = pd.DataFrame(randn(5,4),['A','B','C','D','E'],['W','X','Y','Z'])"
   ]
  },
  {
   "cell_type": "code",
   "execution_count": 17,
   "id": "answering-warrior",
   "metadata": {
    "execution": {
     "iopub.execute_input": "2021-05-08T10:57:56.718944Z",
     "iopub.status.busy": "2021-05-08T10:57:56.717969Z",
     "iopub.status.idle": "2021-05-08T10:57:56.733758Z",
     "shell.execute_reply": "2021-05-08T10:57:56.732980Z"
    },
    "papermill": {
     "duration": 0.066126,
     "end_time": "2021-05-08T10:57:56.733973",
     "exception": false,
     "start_time": "2021-05-08T10:57:56.667847",
     "status": "completed"
    },
    "tags": []
   },
   "outputs": [
    {
     "data": {
      "text/html": [
       "<div>\n",
       "<style scoped>\n",
       "    .dataframe tbody tr th:only-of-type {\n",
       "        vertical-align: middle;\n",
       "    }\n",
       "\n",
       "    .dataframe tbody tr th {\n",
       "        vertical-align: top;\n",
       "    }\n",
       "\n",
       "    .dataframe thead th {\n",
       "        text-align: right;\n",
       "    }\n",
       "</style>\n",
       "<table border=\"1\" class=\"dataframe\">\n",
       "  <thead>\n",
       "    <tr style=\"text-align: right;\">\n",
       "      <th></th>\n",
       "      <th>W</th>\n",
       "      <th>X</th>\n",
       "      <th>Y</th>\n",
       "      <th>Z</th>\n",
       "    </tr>\n",
       "  </thead>\n",
       "  <tbody>\n",
       "    <tr>\n",
       "      <th>A</th>\n",
       "      <td>2.706850</td>\n",
       "      <td>0.628133</td>\n",
       "      <td>0.907969</td>\n",
       "      <td>0.503826</td>\n",
       "    </tr>\n",
       "    <tr>\n",
       "      <th>B</th>\n",
       "      <td>0.651118</td>\n",
       "      <td>-0.319318</td>\n",
       "      <td>-0.848077</td>\n",
       "      <td>0.605965</td>\n",
       "    </tr>\n",
       "    <tr>\n",
       "      <th>C</th>\n",
       "      <td>-2.018168</td>\n",
       "      <td>0.740122</td>\n",
       "      <td>0.528813</td>\n",
       "      <td>-0.589001</td>\n",
       "    </tr>\n",
       "    <tr>\n",
       "      <th>D</th>\n",
       "      <td>0.188695</td>\n",
       "      <td>-0.758872</td>\n",
       "      <td>-0.933237</td>\n",
       "      <td>0.955057</td>\n",
       "    </tr>\n",
       "    <tr>\n",
       "      <th>E</th>\n",
       "      <td>0.190794</td>\n",
       "      <td>1.978757</td>\n",
       "      <td>2.605967</td>\n",
       "      <td>0.683509</td>\n",
       "    </tr>\n",
       "  </tbody>\n",
       "</table>\n",
       "</div>"
      ],
      "text/plain": [
       "          W         X         Y         Z\n",
       "A  2.706850  0.628133  0.907969  0.503826\n",
       "B  0.651118 -0.319318 -0.848077  0.605965\n",
       "C -2.018168  0.740122  0.528813 -0.589001\n",
       "D  0.188695 -0.758872 -0.933237  0.955057\n",
       "E  0.190794  1.978757  2.605967  0.683509"
      ]
     },
     "execution_count": 17,
     "metadata": {},
     "output_type": "execute_result"
    }
   ],
   "source": [
    "df"
   ]
  },
  {
   "cell_type": "code",
   "execution_count": 18,
   "id": "golden-nerve",
   "metadata": {
    "execution": {
     "iopub.execute_input": "2021-05-08T10:57:56.839106Z",
     "iopub.status.busy": "2021-05-08T10:57:56.838157Z",
     "iopub.status.idle": "2021-05-08T10:57:56.841957Z",
     "shell.execute_reply": "2021-05-08T10:57:56.842500Z"
    },
    "papermill": {
     "duration": 0.059908,
     "end_time": "2021-05-08T10:57:56.842700",
     "exception": false,
     "start_time": "2021-05-08T10:57:56.782792",
     "status": "completed"
    },
    "tags": []
   },
   "outputs": [
    {
     "data": {
      "text/plain": [
       "A    2.706850\n",
       "B    0.651118\n",
       "C   -2.018168\n",
       "D    0.188695\n",
       "E    0.190794\n",
       "Name: W, dtype: float64"
      ]
     },
     "execution_count": 18,
     "metadata": {},
     "output_type": "execute_result"
    }
   ],
   "source": [
    "df['W']\n",
    "#the column W is a Series"
   ]
  },
  {
   "cell_type": "code",
   "execution_count": 19,
   "id": "matched-thought",
   "metadata": {
    "execution": {
     "iopub.execute_input": "2021-05-08T10:57:56.940262Z",
     "iopub.status.busy": "2021-05-08T10:57:56.939251Z",
     "iopub.status.idle": "2021-05-08T10:57:56.944262Z",
     "shell.execute_reply": "2021-05-08T10:57:56.943568Z"
    },
    "papermill": {
     "duration": 0.054884,
     "end_time": "2021-05-08T10:57:56.944435",
     "exception": false,
     "start_time": "2021-05-08T10:57:56.889551",
     "status": "completed"
    },
    "tags": []
   },
   "outputs": [
    {
     "data": {
      "text/plain": [
       "pandas.core.series.Series"
      ]
     },
     "execution_count": 19,
     "metadata": {},
     "output_type": "execute_result"
    }
   ],
   "source": [
    "#What is the type of the column W? A Series\n",
    "type(df['W'])"
   ]
  },
  {
   "cell_type": "code",
   "execution_count": 20,
   "id": "rural-migration",
   "metadata": {
    "execution": {
     "iopub.execute_input": "2021-05-08T10:57:57.038140Z",
     "iopub.status.busy": "2021-05-08T10:57:57.037039Z",
     "iopub.status.idle": "2021-05-08T10:57:57.041801Z",
     "shell.execute_reply": "2021-05-08T10:57:57.041136Z"
    },
    "papermill": {
     "duration": 0.053703,
     "end_time": "2021-05-08T10:57:57.041950",
     "exception": false,
     "start_time": "2021-05-08T10:57:56.988247",
     "status": "completed"
    },
    "tags": []
   },
   "outputs": [
    {
     "data": {
      "text/plain": [
       "pandas.core.frame.DataFrame"
      ]
     },
     "execution_count": 20,
     "metadata": {},
     "output_type": "execute_result"
    }
   ],
   "source": [
    "type(df)"
   ]
  },
  {
   "cell_type": "code",
   "execution_count": 21,
   "id": "respiratory-region",
   "metadata": {
    "execution": {
     "iopub.execute_input": "2021-05-08T10:57:57.143662Z",
     "iopub.status.busy": "2021-05-08T10:57:57.142916Z",
     "iopub.status.idle": "2021-05-08T10:57:57.145589Z",
     "shell.execute_reply": "2021-05-08T10:57:57.146081Z"
    },
    "papermill": {
     "duration": 0.059465,
     "end_time": "2021-05-08T10:57:57.146254",
     "exception": false,
     "start_time": "2021-05-08T10:57:57.086789",
     "status": "completed"
    },
    "tags": []
   },
   "outputs": [
    {
     "data": {
      "text/html": [
       "<div>\n",
       "<style scoped>\n",
       "    .dataframe tbody tr th:only-of-type {\n",
       "        vertical-align: middle;\n",
       "    }\n",
       "\n",
       "    .dataframe tbody tr th {\n",
       "        vertical-align: top;\n",
       "    }\n",
       "\n",
       "    .dataframe thead th {\n",
       "        text-align: right;\n",
       "    }\n",
       "</style>\n",
       "<table border=\"1\" class=\"dataframe\">\n",
       "  <thead>\n",
       "    <tr style=\"text-align: right;\">\n",
       "      <th></th>\n",
       "      <th>W</th>\n",
       "      <th>Z</th>\n",
       "    </tr>\n",
       "  </thead>\n",
       "  <tbody>\n",
       "    <tr>\n",
       "      <th>A</th>\n",
       "      <td>2.706850</td>\n",
       "      <td>0.503826</td>\n",
       "    </tr>\n",
       "    <tr>\n",
       "      <th>B</th>\n",
       "      <td>0.651118</td>\n",
       "      <td>0.605965</td>\n",
       "    </tr>\n",
       "    <tr>\n",
       "      <th>C</th>\n",
       "      <td>-2.018168</td>\n",
       "      <td>-0.589001</td>\n",
       "    </tr>\n",
       "    <tr>\n",
       "      <th>D</th>\n",
       "      <td>0.188695</td>\n",
       "      <td>0.955057</td>\n",
       "    </tr>\n",
       "    <tr>\n",
       "      <th>E</th>\n",
       "      <td>0.190794</td>\n",
       "      <td>0.683509</td>\n",
       "    </tr>\n",
       "  </tbody>\n",
       "</table>\n",
       "</div>"
      ],
      "text/plain": [
       "          W         Z\n",
       "A  2.706850  0.503826\n",
       "B  0.651118  0.605965\n",
       "C -2.018168 -0.589001\n",
       "D  0.188695  0.955057\n",
       "E  0.190794  0.683509"
      ]
     },
     "execution_count": 21,
     "metadata": {},
     "output_type": "execute_result"
    }
   ],
   "source": [
    "df[['W','Z']]"
   ]
  },
  {
   "cell_type": "code",
   "execution_count": 22,
   "id": "assigned-roots",
   "metadata": {
    "execution": {
     "iopub.execute_input": "2021-05-08T10:57:57.239221Z",
     "iopub.status.busy": "2021-05-08T10:57:57.238526Z",
     "iopub.status.idle": "2021-05-08T10:57:57.249467Z",
     "shell.execute_reply": "2021-05-08T10:57:57.250002Z"
    },
    "papermill": {
     "duration": 0.059048,
     "end_time": "2021-05-08T10:57:57.250197",
     "exception": false,
     "start_time": "2021-05-08T10:57:57.191149",
     "status": "completed"
    },
    "tags": []
   },
   "outputs": [
    {
     "data": {
      "text/html": [
       "<div>\n",
       "<style scoped>\n",
       "    .dataframe tbody tr th:only-of-type {\n",
       "        vertical-align: middle;\n",
       "    }\n",
       "\n",
       "    .dataframe tbody tr th {\n",
       "        vertical-align: top;\n",
       "    }\n",
       "\n",
       "    .dataframe thead th {\n",
       "        text-align: right;\n",
       "    }\n",
       "</style>\n",
       "<table border=\"1\" class=\"dataframe\">\n",
       "  <thead>\n",
       "    <tr style=\"text-align: right;\">\n",
       "      <th></th>\n",
       "      <th>Z</th>\n",
       "      <th>W</th>\n",
       "    </tr>\n",
       "  </thead>\n",
       "  <tbody>\n",
       "    <tr>\n",
       "      <th>A</th>\n",
       "      <td>0.503826</td>\n",
       "      <td>2.706850</td>\n",
       "    </tr>\n",
       "    <tr>\n",
       "      <th>B</th>\n",
       "      <td>0.605965</td>\n",
       "      <td>0.651118</td>\n",
       "    </tr>\n",
       "    <tr>\n",
       "      <th>C</th>\n",
       "      <td>-0.589001</td>\n",
       "      <td>-2.018168</td>\n",
       "    </tr>\n",
       "    <tr>\n",
       "      <th>D</th>\n",
       "      <td>0.955057</td>\n",
       "      <td>0.188695</td>\n",
       "    </tr>\n",
       "    <tr>\n",
       "      <th>E</th>\n",
       "      <td>0.683509</td>\n",
       "      <td>0.190794</td>\n",
       "    </tr>\n",
       "  </tbody>\n",
       "</table>\n",
       "</div>"
      ],
      "text/plain": [
       "          Z         W\n",
       "A  0.503826  2.706850\n",
       "B  0.605965  0.651118\n",
       "C -0.589001 -2.018168\n",
       "D  0.955057  0.188695\n",
       "E  0.683509  0.190794"
      ]
     },
     "execution_count": 22,
     "metadata": {},
     "output_type": "execute_result"
    }
   ],
   "source": [
    "df[['Z','W']]"
   ]
  },
  {
   "cell_type": "code",
   "execution_count": 23,
   "id": "detailed-immunology",
   "metadata": {
    "execution": {
     "iopub.execute_input": "2021-05-08T10:57:57.356813Z",
     "iopub.status.busy": "2021-05-08T10:57:57.355611Z",
     "iopub.status.idle": "2021-05-08T10:57:57.361492Z",
     "shell.execute_reply": "2021-05-08T10:57:57.362012Z"
    },
    "papermill": {
     "duration": 0.061261,
     "end_time": "2021-05-08T10:57:57.362206",
     "exception": false,
     "start_time": "2021-05-08T10:57:57.300945",
     "status": "completed"
    },
    "tags": []
   },
   "outputs": [],
   "source": [
    "#Create a new column\n",
    "df['new'] = df['W']+df['Y']"
   ]
  },
  {
   "cell_type": "code",
   "execution_count": 24,
   "id": "textile-guidance",
   "metadata": {
    "execution": {
     "iopub.execute_input": "2021-05-08T10:57:57.460711Z",
     "iopub.status.busy": "2021-05-08T10:57:57.459738Z",
     "iopub.status.idle": "2021-05-08T10:57:57.473675Z",
     "shell.execute_reply": "2021-05-08T10:57:57.472950Z"
    },
    "papermill": {
     "duration": 0.063065,
     "end_time": "2021-05-08T10:57:57.473848",
     "exception": false,
     "start_time": "2021-05-08T10:57:57.410783",
     "status": "completed"
    },
    "tags": []
   },
   "outputs": [
    {
     "data": {
      "text/html": [
       "<div>\n",
       "<style scoped>\n",
       "    .dataframe tbody tr th:only-of-type {\n",
       "        vertical-align: middle;\n",
       "    }\n",
       "\n",
       "    .dataframe tbody tr th {\n",
       "        vertical-align: top;\n",
       "    }\n",
       "\n",
       "    .dataframe thead th {\n",
       "        text-align: right;\n",
       "    }\n",
       "</style>\n",
       "<table border=\"1\" class=\"dataframe\">\n",
       "  <thead>\n",
       "    <tr style=\"text-align: right;\">\n",
       "      <th></th>\n",
       "      <th>W</th>\n",
       "      <th>X</th>\n",
       "      <th>Y</th>\n",
       "      <th>Z</th>\n",
       "      <th>new</th>\n",
       "    </tr>\n",
       "  </thead>\n",
       "  <tbody>\n",
       "    <tr>\n",
       "      <th>A</th>\n",
       "      <td>2.706850</td>\n",
       "      <td>0.628133</td>\n",
       "      <td>0.907969</td>\n",
       "      <td>0.503826</td>\n",
       "      <td>3.614819</td>\n",
       "    </tr>\n",
       "    <tr>\n",
       "      <th>B</th>\n",
       "      <td>0.651118</td>\n",
       "      <td>-0.319318</td>\n",
       "      <td>-0.848077</td>\n",
       "      <td>0.605965</td>\n",
       "      <td>-0.196959</td>\n",
       "    </tr>\n",
       "    <tr>\n",
       "      <th>C</th>\n",
       "      <td>-2.018168</td>\n",
       "      <td>0.740122</td>\n",
       "      <td>0.528813</td>\n",
       "      <td>-0.589001</td>\n",
       "      <td>-1.489355</td>\n",
       "    </tr>\n",
       "    <tr>\n",
       "      <th>D</th>\n",
       "      <td>0.188695</td>\n",
       "      <td>-0.758872</td>\n",
       "      <td>-0.933237</td>\n",
       "      <td>0.955057</td>\n",
       "      <td>-0.744542</td>\n",
       "    </tr>\n",
       "    <tr>\n",
       "      <th>E</th>\n",
       "      <td>0.190794</td>\n",
       "      <td>1.978757</td>\n",
       "      <td>2.605967</td>\n",
       "      <td>0.683509</td>\n",
       "      <td>2.796762</td>\n",
       "    </tr>\n",
       "  </tbody>\n",
       "</table>\n",
       "</div>"
      ],
      "text/plain": [
       "          W         X         Y         Z       new\n",
       "A  2.706850  0.628133  0.907969  0.503826  3.614819\n",
       "B  0.651118 -0.319318 -0.848077  0.605965 -0.196959\n",
       "C -2.018168  0.740122  0.528813 -0.589001 -1.489355\n",
       "D  0.188695 -0.758872 -0.933237  0.955057 -0.744542\n",
       "E  0.190794  1.978757  2.605967  0.683509  2.796762"
      ]
     },
     "execution_count": 24,
     "metadata": {},
     "output_type": "execute_result"
    }
   ],
   "source": [
    "df"
   ]
  },
  {
   "cell_type": "code",
   "execution_count": 25,
   "id": "affecting-lover",
   "metadata": {
    "execution": {
     "iopub.execute_input": "2021-05-08T10:57:57.581069Z",
     "iopub.status.busy": "2021-05-08T10:57:57.580162Z",
     "iopub.status.idle": "2021-05-08T10:57:57.584449Z",
     "shell.execute_reply": "2021-05-08T10:57:57.584978Z"
    },
    "papermill": {
     "duration": 0.065019,
     "end_time": "2021-05-08T10:57:57.585151",
     "exception": false,
     "start_time": "2021-05-08T10:57:57.520132",
     "status": "completed"
    },
    "tags": []
   },
   "outputs": [
    {
     "data": {
      "text/html": [
       "<div>\n",
       "<style scoped>\n",
       "    .dataframe tbody tr th:only-of-type {\n",
       "        vertical-align: middle;\n",
       "    }\n",
       "\n",
       "    .dataframe tbody tr th {\n",
       "        vertical-align: top;\n",
       "    }\n",
       "\n",
       "    .dataframe thead th {\n",
       "        text-align: right;\n",
       "    }\n",
       "</style>\n",
       "<table border=\"1\" class=\"dataframe\">\n",
       "  <thead>\n",
       "    <tr style=\"text-align: right;\">\n",
       "      <th></th>\n",
       "      <th>W</th>\n",
       "      <th>X</th>\n",
       "      <th>Y</th>\n",
       "      <th>Z</th>\n",
       "    </tr>\n",
       "  </thead>\n",
       "  <tbody>\n",
       "    <tr>\n",
       "      <th>A</th>\n",
       "      <td>2.706850</td>\n",
       "      <td>0.628133</td>\n",
       "      <td>0.907969</td>\n",
       "      <td>0.503826</td>\n",
       "    </tr>\n",
       "    <tr>\n",
       "      <th>B</th>\n",
       "      <td>0.651118</td>\n",
       "      <td>-0.319318</td>\n",
       "      <td>-0.848077</td>\n",
       "      <td>0.605965</td>\n",
       "    </tr>\n",
       "    <tr>\n",
       "      <th>C</th>\n",
       "      <td>-2.018168</td>\n",
       "      <td>0.740122</td>\n",
       "      <td>0.528813</td>\n",
       "      <td>-0.589001</td>\n",
       "    </tr>\n",
       "    <tr>\n",
       "      <th>D</th>\n",
       "      <td>0.188695</td>\n",
       "      <td>-0.758872</td>\n",
       "      <td>-0.933237</td>\n",
       "      <td>0.955057</td>\n",
       "    </tr>\n",
       "    <tr>\n",
       "      <th>E</th>\n",
       "      <td>0.190794</td>\n",
       "      <td>1.978757</td>\n",
       "      <td>2.605967</td>\n",
       "      <td>0.683509</td>\n",
       "    </tr>\n",
       "  </tbody>\n",
       "</table>\n",
       "</div>"
      ],
      "text/plain": [
       "          W         X         Y         Z\n",
       "A  2.706850  0.628133  0.907969  0.503826\n",
       "B  0.651118 -0.319318 -0.848077  0.605965\n",
       "C -2.018168  0.740122  0.528813 -0.589001\n",
       "D  0.188695 -0.758872 -0.933237  0.955057\n",
       "E  0.190794  1.978757  2.605967  0.683509"
      ]
     },
     "execution_count": 25,
     "metadata": {},
     "output_type": "execute_result"
    }
   ],
   "source": [
    "#Remove columns\n",
    "df.drop('new', axis=1)\n",
    "#Note that this will not affect the actual DataFrame though because the inplace=True method is missing"
   ]
  },
  {
   "cell_type": "code",
   "execution_count": 26,
   "id": "fifth-salad",
   "metadata": {
    "execution": {
     "iopub.execute_input": "2021-05-08T10:57:57.691146Z",
     "iopub.status.busy": "2021-05-08T10:57:57.690435Z",
     "iopub.status.idle": "2021-05-08T10:57:57.693849Z",
     "shell.execute_reply": "2021-05-08T10:57:57.694350Z"
    },
    "papermill": {
     "duration": 0.062973,
     "end_time": "2021-05-08T10:57:57.694539",
     "exception": false,
     "start_time": "2021-05-08T10:57:57.631566",
     "status": "completed"
    },
    "tags": []
   },
   "outputs": [
    {
     "data": {
      "text/html": [
       "<div>\n",
       "<style scoped>\n",
       "    .dataframe tbody tr th:only-of-type {\n",
       "        vertical-align: middle;\n",
       "    }\n",
       "\n",
       "    .dataframe tbody tr th {\n",
       "        vertical-align: top;\n",
       "    }\n",
       "\n",
       "    .dataframe thead th {\n",
       "        text-align: right;\n",
       "    }\n",
       "</style>\n",
       "<table border=\"1\" class=\"dataframe\">\n",
       "  <thead>\n",
       "    <tr style=\"text-align: right;\">\n",
       "      <th></th>\n",
       "      <th>W</th>\n",
       "      <th>X</th>\n",
       "      <th>Y</th>\n",
       "      <th>Z</th>\n",
       "      <th>new</th>\n",
       "    </tr>\n",
       "  </thead>\n",
       "  <tbody>\n",
       "    <tr>\n",
       "      <th>A</th>\n",
       "      <td>2.706850</td>\n",
       "      <td>0.628133</td>\n",
       "      <td>0.907969</td>\n",
       "      <td>0.503826</td>\n",
       "      <td>3.614819</td>\n",
       "    </tr>\n",
       "    <tr>\n",
       "      <th>B</th>\n",
       "      <td>0.651118</td>\n",
       "      <td>-0.319318</td>\n",
       "      <td>-0.848077</td>\n",
       "      <td>0.605965</td>\n",
       "      <td>-0.196959</td>\n",
       "    </tr>\n",
       "    <tr>\n",
       "      <th>C</th>\n",
       "      <td>-2.018168</td>\n",
       "      <td>0.740122</td>\n",
       "      <td>0.528813</td>\n",
       "      <td>-0.589001</td>\n",
       "      <td>-1.489355</td>\n",
       "    </tr>\n",
       "    <tr>\n",
       "      <th>D</th>\n",
       "      <td>0.188695</td>\n",
       "      <td>-0.758872</td>\n",
       "      <td>-0.933237</td>\n",
       "      <td>0.955057</td>\n",
       "      <td>-0.744542</td>\n",
       "    </tr>\n",
       "    <tr>\n",
       "      <th>E</th>\n",
       "      <td>0.190794</td>\n",
       "      <td>1.978757</td>\n",
       "      <td>2.605967</td>\n",
       "      <td>0.683509</td>\n",
       "      <td>2.796762</td>\n",
       "    </tr>\n",
       "  </tbody>\n",
       "</table>\n",
       "</div>"
      ],
      "text/plain": [
       "          W         X         Y         Z       new\n",
       "A  2.706850  0.628133  0.907969  0.503826  3.614819\n",
       "B  0.651118 -0.319318 -0.848077  0.605965 -0.196959\n",
       "C -2.018168  0.740122  0.528813 -0.589001 -1.489355\n",
       "D  0.188695 -0.758872 -0.933237  0.955057 -0.744542\n",
       "E  0.190794  1.978757  2.605967  0.683509  2.796762"
      ]
     },
     "execution_count": 26,
     "metadata": {},
     "output_type": "execute_result"
    }
   ],
   "source": [
    "#The 'new' column is still part of the DataFrame\n",
    "df"
   ]
  },
  {
   "cell_type": "code",
   "execution_count": 27,
   "id": "lightweight-subscription",
   "metadata": {
    "execution": {
     "iopub.execute_input": "2021-05-08T10:57:57.797748Z",
     "iopub.status.busy": "2021-05-08T10:57:57.797022Z",
     "iopub.status.idle": "2021-05-08T10:57:57.802643Z",
     "shell.execute_reply": "2021-05-08T10:57:57.801830Z"
    },
    "papermill": {
     "duration": 0.059355,
     "end_time": "2021-05-08T10:57:57.802798",
     "exception": false,
     "start_time": "2021-05-08T10:57:57.743443",
     "status": "completed"
    },
    "tags": []
   },
   "outputs": [],
   "source": [
    "#In order to permanently remove the column, add inplace=True\n",
    "df.drop('new', axis=1, inplace=True)"
   ]
  },
  {
   "cell_type": "code",
   "execution_count": 28,
   "id": "partial-passport",
   "metadata": {
    "execution": {
     "iopub.execute_input": "2021-05-08T10:57:57.902366Z",
     "iopub.status.busy": "2021-05-08T10:57:57.901630Z",
     "iopub.status.idle": "2021-05-08T10:57:57.913226Z",
     "shell.execute_reply": "2021-05-08T10:57:57.913917Z"
    },
    "papermill": {
     "duration": 0.063101,
     "end_time": "2021-05-08T10:57:57.914108",
     "exception": false,
     "start_time": "2021-05-08T10:57:57.851007",
     "status": "completed"
    },
    "tags": []
   },
   "outputs": [
    {
     "data": {
      "text/html": [
       "<div>\n",
       "<style scoped>\n",
       "    .dataframe tbody tr th:only-of-type {\n",
       "        vertical-align: middle;\n",
       "    }\n",
       "\n",
       "    .dataframe tbody tr th {\n",
       "        vertical-align: top;\n",
       "    }\n",
       "\n",
       "    .dataframe thead th {\n",
       "        text-align: right;\n",
       "    }\n",
       "</style>\n",
       "<table border=\"1\" class=\"dataframe\">\n",
       "  <thead>\n",
       "    <tr style=\"text-align: right;\">\n",
       "      <th></th>\n",
       "      <th>W</th>\n",
       "      <th>X</th>\n",
       "      <th>Y</th>\n",
       "      <th>Z</th>\n",
       "    </tr>\n",
       "  </thead>\n",
       "  <tbody>\n",
       "    <tr>\n",
       "      <th>A</th>\n",
       "      <td>2.706850</td>\n",
       "      <td>0.628133</td>\n",
       "      <td>0.907969</td>\n",
       "      <td>0.503826</td>\n",
       "    </tr>\n",
       "    <tr>\n",
       "      <th>B</th>\n",
       "      <td>0.651118</td>\n",
       "      <td>-0.319318</td>\n",
       "      <td>-0.848077</td>\n",
       "      <td>0.605965</td>\n",
       "    </tr>\n",
       "    <tr>\n",
       "      <th>C</th>\n",
       "      <td>-2.018168</td>\n",
       "      <td>0.740122</td>\n",
       "      <td>0.528813</td>\n",
       "      <td>-0.589001</td>\n",
       "    </tr>\n",
       "    <tr>\n",
       "      <th>D</th>\n",
       "      <td>0.188695</td>\n",
       "      <td>-0.758872</td>\n",
       "      <td>-0.933237</td>\n",
       "      <td>0.955057</td>\n",
       "    </tr>\n",
       "    <tr>\n",
       "      <th>E</th>\n",
       "      <td>0.190794</td>\n",
       "      <td>1.978757</td>\n",
       "      <td>2.605967</td>\n",
       "      <td>0.683509</td>\n",
       "    </tr>\n",
       "  </tbody>\n",
       "</table>\n",
       "</div>"
      ],
      "text/plain": [
       "          W         X         Y         Z\n",
       "A  2.706850  0.628133  0.907969  0.503826\n",
       "B  0.651118 -0.319318 -0.848077  0.605965\n",
       "C -2.018168  0.740122  0.528813 -0.589001\n",
       "D  0.188695 -0.758872 -0.933237  0.955057\n",
       "E  0.190794  1.978757  2.605967  0.683509"
      ]
     },
     "execution_count": 28,
     "metadata": {},
     "output_type": "execute_result"
    }
   ],
   "source": [
    "df"
   ]
  },
  {
   "cell_type": "code",
   "execution_count": 29,
   "id": "mechanical-commissioner",
   "metadata": {
    "execution": {
     "iopub.execute_input": "2021-05-08T10:57:58.014842Z",
     "iopub.status.busy": "2021-05-08T10:57:58.014111Z",
     "iopub.status.idle": "2021-05-08T10:57:58.026360Z",
     "shell.execute_reply": "2021-05-08T10:57:58.026905Z"
    },
    "papermill": {
     "duration": 0.064948,
     "end_time": "2021-05-08T10:57:58.027099",
     "exception": false,
     "start_time": "2021-05-08T10:57:57.962151",
     "status": "completed"
    },
    "tags": []
   },
   "outputs": [
    {
     "data": {
      "text/html": [
       "<div>\n",
       "<style scoped>\n",
       "    .dataframe tbody tr th:only-of-type {\n",
       "        vertical-align: middle;\n",
       "    }\n",
       "\n",
       "    .dataframe tbody tr th {\n",
       "        vertical-align: top;\n",
       "    }\n",
       "\n",
       "    .dataframe thead th {\n",
       "        text-align: right;\n",
       "    }\n",
       "</style>\n",
       "<table border=\"1\" class=\"dataframe\">\n",
       "  <thead>\n",
       "    <tr style=\"text-align: right;\">\n",
       "      <th></th>\n",
       "      <th>W</th>\n",
       "      <th>X</th>\n",
       "      <th>Y</th>\n",
       "      <th>Z</th>\n",
       "    </tr>\n",
       "  </thead>\n",
       "  <tbody>\n",
       "    <tr>\n",
       "      <th>A</th>\n",
       "      <td>2.706850</td>\n",
       "      <td>0.628133</td>\n",
       "      <td>0.907969</td>\n",
       "      <td>0.503826</td>\n",
       "    </tr>\n",
       "    <tr>\n",
       "      <th>B</th>\n",
       "      <td>0.651118</td>\n",
       "      <td>-0.319318</td>\n",
       "      <td>-0.848077</td>\n",
       "      <td>0.605965</td>\n",
       "    </tr>\n",
       "    <tr>\n",
       "      <th>C</th>\n",
       "      <td>-2.018168</td>\n",
       "      <td>0.740122</td>\n",
       "      <td>0.528813</td>\n",
       "      <td>-0.589001</td>\n",
       "    </tr>\n",
       "    <tr>\n",
       "      <th>D</th>\n",
       "      <td>0.188695</td>\n",
       "      <td>-0.758872</td>\n",
       "      <td>-0.933237</td>\n",
       "      <td>0.955057</td>\n",
       "    </tr>\n",
       "  </tbody>\n",
       "</table>\n",
       "</div>"
      ],
      "text/plain": [
       "          W         X         Y         Z\n",
       "A  2.706850  0.628133  0.907969  0.503826\n",
       "B  0.651118 -0.319318 -0.848077  0.605965\n",
       "C -2.018168  0.740122  0.528813 -0.589001\n",
       "D  0.188695 -0.758872 -0.933237  0.955057"
      ]
     },
     "execution_count": 29,
     "metadata": {},
     "output_type": "execute_result"
    }
   ],
   "source": [
    "df.drop('E')"
   ]
  },
  {
   "cell_type": "code",
   "execution_count": 30,
   "id": "genetic-variable",
   "metadata": {
    "execution": {
     "iopub.execute_input": "2021-05-08T10:57:58.128769Z",
     "iopub.status.busy": "2021-05-08T10:57:58.128043Z",
     "iopub.status.idle": "2021-05-08T10:57:58.132681Z",
     "shell.execute_reply": "2021-05-08T10:57:58.133160Z"
    },
    "papermill": {
     "duration": 0.056713,
     "end_time": "2021-05-08T10:57:58.133352",
     "exception": false,
     "start_time": "2021-05-08T10:57:58.076639",
     "status": "completed"
    },
    "tags": []
   },
   "outputs": [
    {
     "data": {
      "text/plain": [
       "(5, 4)"
      ]
     },
     "execution_count": 30,
     "metadata": {},
     "output_type": "execute_result"
    }
   ],
   "source": [
    "#tuple\n",
    "# Rows are axis=0 and  Columns are axis=1\n",
    "df.shape"
   ]
  },
  {
   "cell_type": "code",
   "execution_count": 31,
   "id": "green-anthony",
   "metadata": {
    "execution": {
     "iopub.execute_input": "2021-05-08T10:57:58.237887Z",
     "iopub.status.busy": "2021-05-08T10:57:58.236869Z",
     "iopub.status.idle": "2021-05-08T10:57:58.249113Z",
     "shell.execute_reply": "2021-05-08T10:57:58.249664Z"
    },
    "papermill": {
     "duration": 0.065638,
     "end_time": "2021-05-08T10:57:58.249874",
     "exception": false,
     "start_time": "2021-05-08T10:57:58.184236",
     "status": "completed"
    },
    "tags": []
   },
   "outputs": [
    {
     "data": {
      "text/html": [
       "<div>\n",
       "<style scoped>\n",
       "    .dataframe tbody tr th:only-of-type {\n",
       "        vertical-align: middle;\n",
       "    }\n",
       "\n",
       "    .dataframe tbody tr th {\n",
       "        vertical-align: top;\n",
       "    }\n",
       "\n",
       "    .dataframe thead th {\n",
       "        text-align: right;\n",
       "    }\n",
       "</style>\n",
       "<table border=\"1\" class=\"dataframe\">\n",
       "  <thead>\n",
       "    <tr style=\"text-align: right;\">\n",
       "      <th></th>\n",
       "      <th>W</th>\n",
       "      <th>X</th>\n",
       "      <th>Y</th>\n",
       "      <th>Z</th>\n",
       "    </tr>\n",
       "  </thead>\n",
       "  <tbody>\n",
       "    <tr>\n",
       "      <th>A</th>\n",
       "      <td>2.706850</td>\n",
       "      <td>0.628133</td>\n",
       "      <td>0.907969</td>\n",
       "      <td>0.503826</td>\n",
       "    </tr>\n",
       "    <tr>\n",
       "      <th>B</th>\n",
       "      <td>0.651118</td>\n",
       "      <td>-0.319318</td>\n",
       "      <td>-0.848077</td>\n",
       "      <td>0.605965</td>\n",
       "    </tr>\n",
       "    <tr>\n",
       "      <th>C</th>\n",
       "      <td>-2.018168</td>\n",
       "      <td>0.740122</td>\n",
       "      <td>0.528813</td>\n",
       "      <td>-0.589001</td>\n",
       "    </tr>\n",
       "    <tr>\n",
       "      <th>D</th>\n",
       "      <td>0.188695</td>\n",
       "      <td>-0.758872</td>\n",
       "      <td>-0.933237</td>\n",
       "      <td>0.955057</td>\n",
       "    </tr>\n",
       "    <tr>\n",
       "      <th>E</th>\n",
       "      <td>0.190794</td>\n",
       "      <td>1.978757</td>\n",
       "      <td>2.605967</td>\n",
       "      <td>0.683509</td>\n",
       "    </tr>\n",
       "  </tbody>\n",
       "</table>\n",
       "</div>"
      ],
      "text/plain": [
       "          W         X         Y         Z\n",
       "A  2.706850  0.628133  0.907969  0.503826\n",
       "B  0.651118 -0.319318 -0.848077  0.605965\n",
       "C -2.018168  0.740122  0.528813 -0.589001\n",
       "D  0.188695 -0.758872 -0.933237  0.955057\n",
       "E  0.190794  1.978757  2.605967  0.683509"
      ]
     },
     "execution_count": 31,
     "metadata": {},
     "output_type": "execute_result"
    }
   ],
   "source": [
    " df"
   ]
  },
  {
   "cell_type": "code",
   "execution_count": 32,
   "id": "distant-intention",
   "metadata": {
    "execution": {
     "iopub.execute_input": "2021-05-08T10:57:58.354807Z",
     "iopub.status.busy": "2021-05-08T10:57:58.353835Z",
     "iopub.status.idle": "2021-05-08T10:57:58.361041Z",
     "shell.execute_reply": "2021-05-08T10:57:58.361560Z"
    },
    "papermill": {
     "duration": 0.06083,
     "end_time": "2021-05-08T10:57:58.361776",
     "exception": false,
     "start_time": "2021-05-08T10:57:58.300946",
     "status": "completed"
    },
    "tags": []
   },
   "outputs": [
    {
     "data": {
      "text/plain": [
       "W    2.706850\n",
       "X    0.628133\n",
       "Y    0.907969\n",
       "Z    0.503826\n",
       "Name: A, dtype: float64"
      ]
     },
     "execution_count": 32,
     "metadata": {},
     "output_type": "execute_result"
    }
   ],
   "source": [
    "#select Rows in a DataFrames\n",
    "# loc = location (Label based index)\n",
    "\n",
    "df.loc['A']\n",
    "#Rows are returned as Series"
   ]
  },
  {
   "cell_type": "code",
   "execution_count": 33,
   "id": "radical-biodiversity",
   "metadata": {
    "execution": {
     "iopub.execute_input": "2021-05-08T10:57:58.466987Z",
     "iopub.status.busy": "2021-05-08T10:57:58.465999Z",
     "iopub.status.idle": "2021-05-08T10:57:58.472999Z",
     "shell.execute_reply": "2021-05-08T10:57:58.473554Z"
    },
    "papermill": {
     "duration": 0.061006,
     "end_time": "2021-05-08T10:57:58.473760",
     "exception": false,
     "start_time": "2021-05-08T10:57:58.412754",
     "status": "completed"
    },
    "tags": []
   },
   "outputs": [
    {
     "data": {
      "text/plain": [
       "W    2.706850\n",
       "X    0.628133\n",
       "Y    0.907969\n",
       "Z    0.503826\n",
       "Name: A, dtype: float64"
      ]
     },
     "execution_count": 33,
     "metadata": {},
     "output_type": "execute_result"
    }
   ],
   "source": [
    "# iloc = index location\n",
    "df.iloc[0]"
   ]
  },
  {
   "cell_type": "code",
   "execution_count": 34,
   "id": "controlled-atlas",
   "metadata": {
    "execution": {
     "iopub.execute_input": "2021-05-08T10:57:58.583853Z",
     "iopub.status.busy": "2021-05-08T10:57:58.582911Z",
     "iopub.status.idle": "2021-05-08T10:57:58.588904Z",
     "shell.execute_reply": "2021-05-08T10:57:58.589421Z"
    },
    "papermill": {
     "duration": 0.060623,
     "end_time": "2021-05-08T10:57:58.589634",
     "exception": false,
     "start_time": "2021-05-08T10:57:58.529011",
     "status": "completed"
    },
    "tags": []
   },
   "outputs": [
    {
     "data": {
      "text/plain": [
       "-0.8480769834036315"
      ]
     },
     "execution_count": 34,
     "metadata": {},
     "output_type": "execute_result"
    }
   ],
   "source": [
    "df.loc['B','Y']"
   ]
  },
  {
   "cell_type": "code",
   "execution_count": 35,
   "id": "boolean-headline",
   "metadata": {
    "execution": {
     "iopub.execute_input": "2021-05-08T10:57:58.694998Z",
     "iopub.status.busy": "2021-05-08T10:57:58.694356Z",
     "iopub.status.idle": "2021-05-08T10:57:58.704787Z",
     "shell.execute_reply": "2021-05-08T10:57:58.705391Z"
    },
    "papermill": {
     "duration": 0.064859,
     "end_time": "2021-05-08T10:57:58.705575",
     "exception": false,
     "start_time": "2021-05-08T10:57:58.640716",
     "status": "completed"
    },
    "tags": []
   },
   "outputs": [
    {
     "data": {
      "text/html": [
       "<div>\n",
       "<style scoped>\n",
       "    .dataframe tbody tr th:only-of-type {\n",
       "        vertical-align: middle;\n",
       "    }\n",
       "\n",
       "    .dataframe tbody tr th {\n",
       "        vertical-align: top;\n",
       "    }\n",
       "\n",
       "    .dataframe thead th {\n",
       "        text-align: right;\n",
       "    }\n",
       "</style>\n",
       "<table border=\"1\" class=\"dataframe\">\n",
       "  <thead>\n",
       "    <tr style=\"text-align: right;\">\n",
       "      <th></th>\n",
       "      <th>W</th>\n",
       "      <th>Y</th>\n",
       "    </tr>\n",
       "  </thead>\n",
       "  <tbody>\n",
       "    <tr>\n",
       "      <th>A</th>\n",
       "      <td>2.706850</td>\n",
       "      <td>0.907969</td>\n",
       "    </tr>\n",
       "    <tr>\n",
       "      <th>B</th>\n",
       "      <td>0.651118</td>\n",
       "      <td>-0.848077</td>\n",
       "    </tr>\n",
       "  </tbody>\n",
       "</table>\n",
       "</div>"
      ],
      "text/plain": [
       "          W         Y\n",
       "A  2.706850  0.907969\n",
       "B  0.651118 -0.848077"
      ]
     },
     "execution_count": 35,
     "metadata": {},
     "output_type": "execute_result"
    }
   ],
   "source": [
    "#select a subset of rows by passing in a list comma-separated\n",
    "df.loc[['A','B'] , ['W','Y']]"
   ]
  },
  {
   "cell_type": "code",
   "execution_count": 36,
   "id": "recreational-buffer",
   "metadata": {
    "execution": {
     "iopub.execute_input": "2021-05-08T10:57:58.821963Z",
     "iopub.status.busy": "2021-05-08T10:57:58.821238Z",
     "iopub.status.idle": "2021-05-08T10:57:58.825365Z",
     "shell.execute_reply": "2021-05-08T10:57:58.824868Z"
    },
    "papermill": {
     "duration": 0.067051,
     "end_time": "2021-05-08T10:57:58.825508",
     "exception": false,
     "start_time": "2021-05-08T10:57:58.758457",
     "status": "completed"
    },
    "tags": []
   },
   "outputs": [
    {
     "data": {
      "text/html": [
       "<div>\n",
       "<style scoped>\n",
       "    .dataframe tbody tr th:only-of-type {\n",
       "        vertical-align: middle;\n",
       "    }\n",
       "\n",
       "    .dataframe tbody tr th {\n",
       "        vertical-align: top;\n",
       "    }\n",
       "\n",
       "    .dataframe thead th {\n",
       "        text-align: right;\n",
       "    }\n",
       "</style>\n",
       "<table border=\"1\" class=\"dataframe\">\n",
       "  <thead>\n",
       "    <tr style=\"text-align: right;\">\n",
       "      <th></th>\n",
       "      <th>W</th>\n",
       "      <th>X</th>\n",
       "      <th>Y</th>\n",
       "      <th>Z</th>\n",
       "    </tr>\n",
       "  </thead>\n",
       "  <tbody>\n",
       "    <tr>\n",
       "      <th>A</th>\n",
       "      <td>True</td>\n",
       "      <td>True</td>\n",
       "      <td>True</td>\n",
       "      <td>True</td>\n",
       "    </tr>\n",
       "    <tr>\n",
       "      <th>B</th>\n",
       "      <td>True</td>\n",
       "      <td>False</td>\n",
       "      <td>False</td>\n",
       "      <td>True</td>\n",
       "    </tr>\n",
       "    <tr>\n",
       "      <th>C</th>\n",
       "      <td>False</td>\n",
       "      <td>True</td>\n",
       "      <td>True</td>\n",
       "      <td>False</td>\n",
       "    </tr>\n",
       "    <tr>\n",
       "      <th>D</th>\n",
       "      <td>True</td>\n",
       "      <td>False</td>\n",
       "      <td>False</td>\n",
       "      <td>True</td>\n",
       "    </tr>\n",
       "    <tr>\n",
       "      <th>E</th>\n",
       "      <td>True</td>\n",
       "      <td>True</td>\n",
       "      <td>True</td>\n",
       "      <td>True</td>\n",
       "    </tr>\n",
       "  </tbody>\n",
       "</table>\n",
       "</div>"
      ],
      "text/plain": [
       "       W      X      Y      Z\n",
       "A   True   True   True   True\n",
       "B   True  False  False   True\n",
       "C  False   True   True  False\n",
       "D   True  False  False   True\n",
       "E   True   True   True   True"
      ]
     },
     "execution_count": 36,
     "metadata": {},
     "output_type": "execute_result"
    }
   ],
   "source": [
    "#conditional selection with a DataFrame\n",
    "df > 0"
   ]
  },
  {
   "cell_type": "code",
   "execution_count": 37,
   "id": "referenced-ebony",
   "metadata": {
    "execution": {
     "iopub.execute_input": "2021-05-08T10:57:58.935948Z",
     "iopub.status.busy": "2021-05-08T10:57:58.935258Z",
     "iopub.status.idle": "2021-05-08T10:57:58.938629Z",
     "shell.execute_reply": "2021-05-08T10:57:58.938046Z"
    },
    "papermill": {
     "duration": 0.060372,
     "end_time": "2021-05-08T10:57:58.938788",
     "exception": false,
     "start_time": "2021-05-08T10:57:58.878416",
     "status": "completed"
    },
    "tags": []
   },
   "outputs": [],
   "source": [
    "booldf = df > 0"
   ]
  },
  {
   "cell_type": "code",
   "execution_count": 38,
   "id": "plastic-giving",
   "metadata": {
    "execution": {
     "iopub.execute_input": "2021-05-08T10:57:59.060257Z",
     "iopub.status.busy": "2021-05-08T10:57:59.059278Z",
     "iopub.status.idle": "2021-05-08T10:57:59.063699Z",
     "shell.execute_reply": "2021-05-08T10:57:59.064505Z"
    },
    "papermill": {
     "duration": 0.072947,
     "end_time": "2021-05-08T10:57:59.064731",
     "exception": false,
     "start_time": "2021-05-08T10:57:58.991784",
     "status": "completed"
    },
    "tags": []
   },
   "outputs": [
    {
     "data": {
      "text/html": [
       "<div>\n",
       "<style scoped>\n",
       "    .dataframe tbody tr th:only-of-type {\n",
       "        vertical-align: middle;\n",
       "    }\n",
       "\n",
       "    .dataframe tbody tr th {\n",
       "        vertical-align: top;\n",
       "    }\n",
       "\n",
       "    .dataframe thead th {\n",
       "        text-align: right;\n",
       "    }\n",
       "</style>\n",
       "<table border=\"1\" class=\"dataframe\">\n",
       "  <thead>\n",
       "    <tr style=\"text-align: right;\">\n",
       "      <th></th>\n",
       "      <th>W</th>\n",
       "      <th>X</th>\n",
       "      <th>Y</th>\n",
       "      <th>Z</th>\n",
       "    </tr>\n",
       "  </thead>\n",
       "  <tbody>\n",
       "    <tr>\n",
       "      <th>A</th>\n",
       "      <td>2.706850</td>\n",
       "      <td>0.628133</td>\n",
       "      <td>0.907969</td>\n",
       "      <td>0.503826</td>\n",
       "    </tr>\n",
       "    <tr>\n",
       "      <th>B</th>\n",
       "      <td>0.651118</td>\n",
       "      <td>NaN</td>\n",
       "      <td>NaN</td>\n",
       "      <td>0.605965</td>\n",
       "    </tr>\n",
       "    <tr>\n",
       "      <th>C</th>\n",
       "      <td>NaN</td>\n",
       "      <td>0.740122</td>\n",
       "      <td>0.528813</td>\n",
       "      <td>NaN</td>\n",
       "    </tr>\n",
       "    <tr>\n",
       "      <th>D</th>\n",
       "      <td>0.188695</td>\n",
       "      <td>NaN</td>\n",
       "      <td>NaN</td>\n",
       "      <td>0.955057</td>\n",
       "    </tr>\n",
       "    <tr>\n",
       "      <th>E</th>\n",
       "      <td>0.190794</td>\n",
       "      <td>1.978757</td>\n",
       "      <td>2.605967</td>\n",
       "      <td>0.683509</td>\n",
       "    </tr>\n",
       "  </tbody>\n",
       "</table>\n",
       "</div>"
      ],
      "text/plain": [
       "          W         X         Y         Z\n",
       "A  2.706850  0.628133  0.907969  0.503826\n",
       "B  0.651118       NaN       NaN  0.605965\n",
       "C       NaN  0.740122  0.528813       NaN\n",
       "D  0.188695       NaN       NaN  0.955057\n",
       "E  0.190794  1.978757  2.605967  0.683509"
      ]
     },
     "execution_count": 38,
     "metadata": {},
     "output_type": "execute_result"
    }
   ],
   "source": [
    "df[booldf]"
   ]
  },
  {
   "cell_type": "code",
   "execution_count": 39,
   "id": "advisory-replacement",
   "metadata": {
    "execution": {
     "iopub.execute_input": "2021-05-08T10:57:59.178688Z",
     "iopub.status.busy": "2021-05-08T10:57:59.177994Z",
     "iopub.status.idle": "2021-05-08T10:57:59.182784Z",
     "shell.execute_reply": "2021-05-08T10:57:59.182168Z"
    },
    "papermill": {
     "duration": 0.063877,
     "end_time": "2021-05-08T10:57:59.182935",
     "exception": false,
     "start_time": "2021-05-08T10:57:59.119058",
     "status": "completed"
    },
    "tags": []
   },
   "outputs": [
    {
     "data": {
      "text/plain": [
       "A     True\n",
       "B     True\n",
       "C    False\n",
       "D     True\n",
       "E     True\n",
       "Name: W, dtype: bool"
      ]
     },
     "execution_count": 39,
     "metadata": {},
     "output_type": "execute_result"
    }
   ],
   "source": [
    "df['W']>0"
   ]
  },
  {
   "cell_type": "code",
   "execution_count": 40,
   "id": "reduced-morocco",
   "metadata": {
    "execution": {
     "iopub.execute_input": "2021-05-08T10:57:59.296350Z",
     "iopub.status.busy": "2021-05-08T10:57:59.295566Z",
     "iopub.status.idle": "2021-05-08T10:57:59.299669Z",
     "shell.execute_reply": "2021-05-08T10:57:59.298970Z"
    },
    "papermill": {
     "duration": 0.063805,
     "end_time": "2021-05-08T10:57:59.299821",
     "exception": false,
     "start_time": "2021-05-08T10:57:59.236016",
     "status": "completed"
    },
    "tags": []
   },
   "outputs": [
    {
     "data": {
      "text/plain": [
       "A    2.706850\n",
       "B    0.651118\n",
       "C   -2.018168\n",
       "D    0.188695\n",
       "E    0.190794\n",
       "Name: W, dtype: float64"
      ]
     },
     "execution_count": 40,
     "metadata": {},
     "output_type": "execute_result"
    }
   ],
   "source": [
    "df['W']"
   ]
  },
  {
   "cell_type": "code",
   "execution_count": 41,
   "id": "linear-quarterly",
   "metadata": {
    "execution": {
     "iopub.execute_input": "2021-05-08T10:57:59.422087Z",
     "iopub.status.busy": "2021-05-08T10:57:59.421413Z",
     "iopub.status.idle": "2021-05-08T10:57:59.429186Z",
     "shell.execute_reply": "2021-05-08T10:57:59.428566Z"
    },
    "papermill": {
     "duration": 0.070408,
     "end_time": "2021-05-08T10:57:59.429322",
     "exception": false,
     "start_time": "2021-05-08T10:57:59.358914",
     "status": "completed"
    },
    "tags": []
   },
   "outputs": [
    {
     "data": {
      "text/html": [
       "<div>\n",
       "<style scoped>\n",
       "    .dataframe tbody tr th:only-of-type {\n",
       "        vertical-align: middle;\n",
       "    }\n",
       "\n",
       "    .dataframe tbody tr th {\n",
       "        vertical-align: top;\n",
       "    }\n",
       "\n",
       "    .dataframe thead th {\n",
       "        text-align: right;\n",
       "    }\n",
       "</style>\n",
       "<table border=\"1\" class=\"dataframe\">\n",
       "  <thead>\n",
       "    <tr style=\"text-align: right;\">\n",
       "      <th></th>\n",
       "      <th>W</th>\n",
       "      <th>X</th>\n",
       "      <th>Y</th>\n",
       "      <th>Z</th>\n",
       "    </tr>\n",
       "  </thead>\n",
       "  <tbody>\n",
       "    <tr>\n",
       "      <th>A</th>\n",
       "      <td>2.706850</td>\n",
       "      <td>0.628133</td>\n",
       "      <td>0.907969</td>\n",
       "      <td>0.503826</td>\n",
       "    </tr>\n",
       "    <tr>\n",
       "      <th>B</th>\n",
       "      <td>0.651118</td>\n",
       "      <td>-0.319318</td>\n",
       "      <td>-0.848077</td>\n",
       "      <td>0.605965</td>\n",
       "    </tr>\n",
       "    <tr>\n",
       "      <th>D</th>\n",
       "      <td>0.188695</td>\n",
       "      <td>-0.758872</td>\n",
       "      <td>-0.933237</td>\n",
       "      <td>0.955057</td>\n",
       "    </tr>\n",
       "    <tr>\n",
       "      <th>E</th>\n",
       "      <td>0.190794</td>\n",
       "      <td>1.978757</td>\n",
       "      <td>2.605967</td>\n",
       "      <td>0.683509</td>\n",
       "    </tr>\n",
       "  </tbody>\n",
       "</table>\n",
       "</div>"
      ],
      "text/plain": [
       "          W         X         Y         Z\n",
       "A  2.706850  0.628133  0.907969  0.503826\n",
       "B  0.651118 -0.319318 -0.848077  0.605965\n",
       "D  0.188695 -0.758872 -0.933237  0.955057\n",
       "E  0.190794  1.978757  2.605967  0.683509"
      ]
     },
     "execution_count": 41,
     "metadata": {},
     "output_type": "execute_result"
    }
   ],
   "source": [
    "df[df['W']>0]\n",
    "#only return values if condition Value > 0 is True"
   ]
  },
  {
   "cell_type": "code",
   "execution_count": 42,
   "id": "unauthorized-birth",
   "metadata": {
    "execution": {
     "iopub.execute_input": "2021-05-08T10:57:59.541500Z",
     "iopub.status.busy": "2021-05-08T10:57:59.540873Z",
     "iopub.status.idle": "2021-05-08T10:57:59.551708Z",
     "shell.execute_reply": "2021-05-08T10:57:59.552156Z"
    },
    "papermill": {
     "duration": 0.068384,
     "end_time": "2021-05-08T10:57:59.552329",
     "exception": false,
     "start_time": "2021-05-08T10:57:59.483945",
     "status": "completed"
    },
    "tags": []
   },
   "outputs": [
    {
     "data": {
      "text/html": [
       "<div>\n",
       "<style scoped>\n",
       "    .dataframe tbody tr th:only-of-type {\n",
       "        vertical-align: middle;\n",
       "    }\n",
       "\n",
       "    .dataframe tbody tr th {\n",
       "        vertical-align: top;\n",
       "    }\n",
       "\n",
       "    .dataframe thead th {\n",
       "        text-align: right;\n",
       "    }\n",
       "</style>\n",
       "<table border=\"1\" class=\"dataframe\">\n",
       "  <thead>\n",
       "    <tr style=\"text-align: right;\">\n",
       "      <th></th>\n",
       "      <th>W</th>\n",
       "      <th>X</th>\n",
       "      <th>Y</th>\n",
       "      <th>Z</th>\n",
       "    </tr>\n",
       "  </thead>\n",
       "  <tbody>\n",
       "    <tr>\n",
       "      <th>C</th>\n",
       "      <td>-2.018168</td>\n",
       "      <td>0.740122</td>\n",
       "      <td>0.528813</td>\n",
       "      <td>-0.589001</td>\n",
       "    </tr>\n",
       "  </tbody>\n",
       "</table>\n",
       "</div>"
      ],
      "text/plain": [
       "          W         X         Y         Z\n",
       "C -2.018168  0.740122  0.528813 -0.589001"
      ]
     },
     "execution_count": 42,
     "metadata": {},
     "output_type": "execute_result"
    }
   ],
   "source": [
    "df[df['Z']<0]"
   ]
  },
  {
   "cell_type": "code",
   "execution_count": 43,
   "id": "adjustable-handbook",
   "metadata": {
    "execution": {
     "iopub.execute_input": "2021-05-08T10:57:59.673559Z",
     "iopub.status.busy": "2021-05-08T10:57:59.672579Z",
     "iopub.status.idle": "2021-05-08T10:57:59.677027Z",
     "shell.execute_reply": "2021-05-08T10:57:59.676523Z"
    },
    "papermill": {
     "duration": 0.070065,
     "end_time": "2021-05-08T10:57:59.677167",
     "exception": false,
     "start_time": "2021-05-08T10:57:59.607102",
     "status": "completed"
    },
    "tags": []
   },
   "outputs": [
    {
     "data": {
      "text/html": [
       "<div>\n",
       "<style scoped>\n",
       "    .dataframe tbody tr th:only-of-type {\n",
       "        vertical-align: middle;\n",
       "    }\n",
       "\n",
       "    .dataframe tbody tr th {\n",
       "        vertical-align: top;\n",
       "    }\n",
       "\n",
       "    .dataframe thead th {\n",
       "        text-align: right;\n",
       "    }\n",
       "</style>\n",
       "<table border=\"1\" class=\"dataframe\">\n",
       "  <thead>\n",
       "    <tr style=\"text-align: right;\">\n",
       "      <th></th>\n",
       "      <th>Y</th>\n",
       "      <th>X</th>\n",
       "    </tr>\n",
       "  </thead>\n",
       "  <tbody>\n",
       "    <tr>\n",
       "      <th>A</th>\n",
       "      <td>0.907969</td>\n",
       "      <td>0.628133</td>\n",
       "    </tr>\n",
       "    <tr>\n",
       "      <th>B</th>\n",
       "      <td>-0.848077</td>\n",
       "      <td>-0.319318</td>\n",
       "    </tr>\n",
       "    <tr>\n",
       "      <th>D</th>\n",
       "      <td>-0.933237</td>\n",
       "      <td>-0.758872</td>\n",
       "    </tr>\n",
       "    <tr>\n",
       "      <th>E</th>\n",
       "      <td>2.605967</td>\n",
       "      <td>1.978757</td>\n",
       "    </tr>\n",
       "  </tbody>\n",
       "</table>\n",
       "</div>"
      ],
      "text/plain": [
       "          Y         X\n",
       "A  0.907969  0.628133\n",
       "B -0.848077 -0.319318\n",
       "D -0.933237 -0.758872\n",
       "E  2.605967  1.978757"
      ]
     },
     "execution_count": 43,
     "metadata": {},
     "output_type": "execute_result"
    }
   ],
   "source": [
    "df[df['W']>0][['Y','X']]"
   ]
  },
  {
   "cell_type": "code",
   "execution_count": 44,
   "id": "fitted-cocktail",
   "metadata": {
    "execution": {
     "iopub.execute_input": "2021-05-08T10:57:59.801015Z",
     "iopub.status.busy": "2021-05-08T10:57:59.799924Z",
     "iopub.status.idle": "2021-05-08T10:57:59.804582Z",
     "shell.execute_reply": "2021-05-08T10:57:59.803986Z"
    },
    "papermill": {
     "duration": 0.072278,
     "end_time": "2021-05-08T10:57:59.804739",
     "exception": false,
     "start_time": "2021-05-08T10:57:59.732461",
     "status": "completed"
    },
    "tags": []
   },
   "outputs": [
    {
     "data": {
      "text/html": [
       "<div>\n",
       "<style scoped>\n",
       "    .dataframe tbody tr th:only-of-type {\n",
       "        vertical-align: middle;\n",
       "    }\n",
       "\n",
       "    .dataframe tbody tr th {\n",
       "        vertical-align: top;\n",
       "    }\n",
       "\n",
       "    .dataframe thead th {\n",
       "        text-align: right;\n",
       "    }\n",
       "</style>\n",
       "<table border=\"1\" class=\"dataframe\">\n",
       "  <thead>\n",
       "    <tr style=\"text-align: right;\">\n",
       "      <th></th>\n",
       "      <th>W</th>\n",
       "      <th>X</th>\n",
       "      <th>Y</th>\n",
       "      <th>Z</th>\n",
       "    </tr>\n",
       "  </thead>\n",
       "  <tbody>\n",
       "    <tr>\n",
       "      <th>E</th>\n",
       "      <td>0.190794</td>\n",
       "      <td>1.978757</td>\n",
       "      <td>2.605967</td>\n",
       "      <td>0.683509</td>\n",
       "    </tr>\n",
       "  </tbody>\n",
       "</table>\n",
       "</div>"
      ],
      "text/plain": [
       "          W         X         Y         Z\n",
       "E  0.190794  1.978757  2.605967  0.683509"
      ]
     },
     "execution_count": 44,
     "metadata": {},
     "output_type": "execute_result"
    }
   ],
   "source": [
    "#multiple conditions\n",
    "#do not use 'and' instead use & (or operator = | pipe operator )\n",
    "df[(df['W']>0) & (df['Y']>1)]"
   ]
  },
  {
   "cell_type": "code",
   "execution_count": 45,
   "id": "atmospheric-transformation",
   "metadata": {
    "execution": {
     "iopub.execute_input": "2021-05-08T10:57:59.931108Z",
     "iopub.status.busy": "2021-05-08T10:57:59.930044Z",
     "iopub.status.idle": "2021-05-08T10:57:59.934091Z",
     "shell.execute_reply": "2021-05-08T10:57:59.934525Z"
    },
    "papermill": {
     "duration": 0.073589,
     "end_time": "2021-05-08T10:57:59.934716",
     "exception": false,
     "start_time": "2021-05-08T10:57:59.861127",
     "status": "completed"
    },
    "tags": []
   },
   "outputs": [
    {
     "data": {
      "text/html": [
       "<div>\n",
       "<style scoped>\n",
       "    .dataframe tbody tr th:only-of-type {\n",
       "        vertical-align: middle;\n",
       "    }\n",
       "\n",
       "    .dataframe tbody tr th {\n",
       "        vertical-align: top;\n",
       "    }\n",
       "\n",
       "    .dataframe thead th {\n",
       "        text-align: right;\n",
       "    }\n",
       "</style>\n",
       "<table border=\"1\" class=\"dataframe\">\n",
       "  <thead>\n",
       "    <tr style=\"text-align: right;\">\n",
       "      <th></th>\n",
       "      <th>index</th>\n",
       "      <th>W</th>\n",
       "      <th>X</th>\n",
       "      <th>Y</th>\n",
       "      <th>Z</th>\n",
       "    </tr>\n",
       "  </thead>\n",
       "  <tbody>\n",
       "    <tr>\n",
       "      <th>0</th>\n",
       "      <td>A</td>\n",
       "      <td>2.706850</td>\n",
       "      <td>0.628133</td>\n",
       "      <td>0.907969</td>\n",
       "      <td>0.503826</td>\n",
       "    </tr>\n",
       "    <tr>\n",
       "      <th>1</th>\n",
       "      <td>B</td>\n",
       "      <td>0.651118</td>\n",
       "      <td>-0.319318</td>\n",
       "      <td>-0.848077</td>\n",
       "      <td>0.605965</td>\n",
       "    </tr>\n",
       "    <tr>\n",
       "      <th>2</th>\n",
       "      <td>C</td>\n",
       "      <td>-2.018168</td>\n",
       "      <td>0.740122</td>\n",
       "      <td>0.528813</td>\n",
       "      <td>-0.589001</td>\n",
       "    </tr>\n",
       "    <tr>\n",
       "      <th>3</th>\n",
       "      <td>D</td>\n",
       "      <td>0.188695</td>\n",
       "      <td>-0.758872</td>\n",
       "      <td>-0.933237</td>\n",
       "      <td>0.955057</td>\n",
       "    </tr>\n",
       "    <tr>\n",
       "      <th>4</th>\n",
       "      <td>E</td>\n",
       "      <td>0.190794</td>\n",
       "      <td>1.978757</td>\n",
       "      <td>2.605967</td>\n",
       "      <td>0.683509</td>\n",
       "    </tr>\n",
       "  </tbody>\n",
       "</table>\n",
       "</div>"
      ],
      "text/plain": [
       "  index         W         X         Y         Z\n",
       "0     A  2.706850  0.628133  0.907969  0.503826\n",
       "1     B  0.651118 -0.319318 -0.848077  0.605965\n",
       "2     C -2.018168  0.740122  0.528813 -0.589001\n",
       "3     D  0.188695 -0.758872 -0.933237  0.955057\n",
       "4     E  0.190794  1.978757  2.605967  0.683509"
      ]
     },
     "execution_count": 45,
     "metadata": {},
     "output_type": "execute_result"
    }
   ],
   "source": [
    "#Reset the index - the old index will become a column\n",
    "df.reset_index()\n",
    "\n",
    "#df.reset_index(inplace=True)  #For the permanent reset!"
   ]
  },
  {
   "cell_type": "code",
   "execution_count": 46,
   "id": "vanilla-exhibit",
   "metadata": {
    "execution": {
     "iopub.execute_input": "2021-05-08T10:58:00.053806Z",
     "iopub.status.busy": "2021-05-08T10:58:00.052846Z",
     "iopub.status.idle": "2021-05-08T10:58:00.057557Z",
     "shell.execute_reply": "2021-05-08T10:58:00.056954Z"
    },
    "papermill": {
     "duration": 0.066403,
     "end_time": "2021-05-08T10:58:00.057716",
     "exception": false,
     "start_time": "2021-05-08T10:57:59.991313",
     "status": "completed"
    },
    "tags": []
   },
   "outputs": [
    {
     "data": {
      "text/plain": [
       "['CA', 'NY', 'WY', 'OR', 'CO']"
      ]
     },
     "execution_count": 46,
     "metadata": {},
     "output_type": "execute_result"
    }
   ],
   "source": [
    "#create a new index\n",
    "newind = 'CA NY WY OR CO'.split()\n",
    "newind"
   ]
  },
  {
   "cell_type": "code",
   "execution_count": 47,
   "id": "stuffed-columbia",
   "metadata": {
    "execution": {
     "iopub.execute_input": "2021-05-08T10:58:00.186430Z",
     "iopub.status.busy": "2021-05-08T10:58:00.185722Z",
     "iopub.status.idle": "2021-05-08T10:58:00.190491Z",
     "shell.execute_reply": "2021-05-08T10:58:00.189933Z"
    },
    "papermill": {
     "duration": 0.07633,
     "end_time": "2021-05-08T10:58:00.190649",
     "exception": false,
     "start_time": "2021-05-08T10:58:00.114319",
     "status": "completed"
    },
    "tags": []
   },
   "outputs": [
    {
     "data": {
      "text/html": [
       "<div>\n",
       "<style scoped>\n",
       "    .dataframe tbody tr th:only-of-type {\n",
       "        vertical-align: middle;\n",
       "    }\n",
       "\n",
       "    .dataframe tbody tr th {\n",
       "        vertical-align: top;\n",
       "    }\n",
       "\n",
       "    .dataframe thead th {\n",
       "        text-align: right;\n",
       "    }\n",
       "</style>\n",
       "<table border=\"1\" class=\"dataframe\">\n",
       "  <thead>\n",
       "    <tr style=\"text-align: right;\">\n",
       "      <th></th>\n",
       "      <th>W</th>\n",
       "      <th>X</th>\n",
       "      <th>Y</th>\n",
       "      <th>Z</th>\n",
       "      <th>States</th>\n",
       "    </tr>\n",
       "  </thead>\n",
       "  <tbody>\n",
       "    <tr>\n",
       "      <th>A</th>\n",
       "      <td>2.706850</td>\n",
       "      <td>0.628133</td>\n",
       "      <td>0.907969</td>\n",
       "      <td>0.503826</td>\n",
       "      <td>CA</td>\n",
       "    </tr>\n",
       "    <tr>\n",
       "      <th>B</th>\n",
       "      <td>0.651118</td>\n",
       "      <td>-0.319318</td>\n",
       "      <td>-0.848077</td>\n",
       "      <td>0.605965</td>\n",
       "      <td>NY</td>\n",
       "    </tr>\n",
       "    <tr>\n",
       "      <th>C</th>\n",
       "      <td>-2.018168</td>\n",
       "      <td>0.740122</td>\n",
       "      <td>0.528813</td>\n",
       "      <td>-0.589001</td>\n",
       "      <td>WY</td>\n",
       "    </tr>\n",
       "    <tr>\n",
       "      <th>D</th>\n",
       "      <td>0.188695</td>\n",
       "      <td>-0.758872</td>\n",
       "      <td>-0.933237</td>\n",
       "      <td>0.955057</td>\n",
       "      <td>OR</td>\n",
       "    </tr>\n",
       "    <tr>\n",
       "      <th>E</th>\n",
       "      <td>0.190794</td>\n",
       "      <td>1.978757</td>\n",
       "      <td>2.605967</td>\n",
       "      <td>0.683509</td>\n",
       "      <td>CO</td>\n",
       "    </tr>\n",
       "  </tbody>\n",
       "</table>\n",
       "</div>"
      ],
      "text/plain": [
       "          W         X         Y         Z States\n",
       "A  2.706850  0.628133  0.907969  0.503826     CA\n",
       "B  0.651118 -0.319318 -0.848077  0.605965     NY\n",
       "C -2.018168  0.740122  0.528813 -0.589001     WY\n",
       "D  0.188695 -0.758872 -0.933237  0.955057     OR\n",
       "E  0.190794  1.978757  2.605967  0.683509     CO"
      ]
     },
     "execution_count": 47,
     "metadata": {},
     "output_type": "execute_result"
    }
   ],
   "source": [
    "df['States'] = newind\n",
    "df"
   ]
  },
  {
   "cell_type": "code",
   "execution_count": 48,
   "id": "excessive-joseph",
   "metadata": {
    "execution": {
     "iopub.execute_input": "2021-05-08T10:58:00.318021Z",
     "iopub.status.busy": "2021-05-08T10:58:00.316981Z",
     "iopub.status.idle": "2021-05-08T10:58:00.321653Z",
     "shell.execute_reply": "2021-05-08T10:58:00.320962Z"
    },
    "papermill": {
     "duration": 0.073724,
     "end_time": "2021-05-08T10:58:00.321806",
     "exception": false,
     "start_time": "2021-05-08T10:58:00.248082",
     "status": "completed"
    },
    "tags": []
   },
   "outputs": [
    {
     "data": {
      "text/html": [
       "<div>\n",
       "<style scoped>\n",
       "    .dataframe tbody tr th:only-of-type {\n",
       "        vertical-align: middle;\n",
       "    }\n",
       "\n",
       "    .dataframe tbody tr th {\n",
       "        vertical-align: top;\n",
       "    }\n",
       "\n",
       "    .dataframe thead th {\n",
       "        text-align: right;\n",
       "    }\n",
       "</style>\n",
       "<table border=\"1\" class=\"dataframe\">\n",
       "  <thead>\n",
       "    <tr style=\"text-align: right;\">\n",
       "      <th></th>\n",
       "      <th>W</th>\n",
       "      <th>X</th>\n",
       "      <th>Y</th>\n",
       "      <th>Z</th>\n",
       "    </tr>\n",
       "    <tr>\n",
       "      <th>States</th>\n",
       "      <th></th>\n",
       "      <th></th>\n",
       "      <th></th>\n",
       "      <th></th>\n",
       "    </tr>\n",
       "  </thead>\n",
       "  <tbody>\n",
       "    <tr>\n",
       "      <th>CA</th>\n",
       "      <td>2.706850</td>\n",
       "      <td>0.628133</td>\n",
       "      <td>0.907969</td>\n",
       "      <td>0.503826</td>\n",
       "    </tr>\n",
       "    <tr>\n",
       "      <th>NY</th>\n",
       "      <td>0.651118</td>\n",
       "      <td>-0.319318</td>\n",
       "      <td>-0.848077</td>\n",
       "      <td>0.605965</td>\n",
       "    </tr>\n",
       "    <tr>\n",
       "      <th>WY</th>\n",
       "      <td>-2.018168</td>\n",
       "      <td>0.740122</td>\n",
       "      <td>0.528813</td>\n",
       "      <td>-0.589001</td>\n",
       "    </tr>\n",
       "    <tr>\n",
       "      <th>OR</th>\n",
       "      <td>0.188695</td>\n",
       "      <td>-0.758872</td>\n",
       "      <td>-0.933237</td>\n",
       "      <td>0.955057</td>\n",
       "    </tr>\n",
       "    <tr>\n",
       "      <th>CO</th>\n",
       "      <td>0.190794</td>\n",
       "      <td>1.978757</td>\n",
       "      <td>2.605967</td>\n",
       "      <td>0.683509</td>\n",
       "    </tr>\n",
       "  </tbody>\n",
       "</table>\n",
       "</div>"
      ],
      "text/plain": [
       "               W         X         Y         Z\n",
       "States                                        \n",
       "CA      2.706850  0.628133  0.907969  0.503826\n",
       "NY      0.651118 -0.319318 -0.848077  0.605965\n",
       "WY     -2.018168  0.740122  0.528813 -0.589001\n",
       "OR      0.188695 -0.758872 -0.933237  0.955057\n",
       "CO      0.190794  1.978757  2.605967  0.683509"
      ]
     },
     "execution_count": 48,
     "metadata": {},
     "output_type": "execute_result"
    }
   ],
   "source": [
    "#not inplace\n",
    "df.set_index('States')"
   ]
  },
  {
   "cell_type": "code",
   "execution_count": 49,
   "id": "purple-stupid",
   "metadata": {
    "execution": {
     "iopub.execute_input": "2021-05-08T10:58:00.465887Z",
     "iopub.status.busy": "2021-05-08T10:58:00.464816Z",
     "iopub.status.idle": "2021-05-08T10:58:00.470056Z",
     "shell.execute_reply": "2021-05-08T10:58:00.469488Z"
    },
    "papermill": {
     "duration": 0.083071,
     "end_time": "2021-05-08T10:58:00.470200",
     "exception": false,
     "start_time": "2021-05-08T10:58:00.387129",
     "status": "completed"
    },
    "tags": []
   },
   "outputs": [
    {
     "data": {
      "text/html": [
       "<div>\n",
       "<style scoped>\n",
       "    .dataframe tbody tr th:only-of-type {\n",
       "        vertical-align: middle;\n",
       "    }\n",
       "\n",
       "    .dataframe tbody tr th {\n",
       "        vertical-align: top;\n",
       "    }\n",
       "\n",
       "    .dataframe thead th {\n",
       "        text-align: right;\n",
       "    }\n",
       "</style>\n",
       "<table border=\"1\" class=\"dataframe\">\n",
       "  <thead>\n",
       "    <tr style=\"text-align: right;\">\n",
       "      <th></th>\n",
       "      <th>W</th>\n",
       "      <th>X</th>\n",
       "      <th>Y</th>\n",
       "      <th>Z</th>\n",
       "      <th>States</th>\n",
       "    </tr>\n",
       "  </thead>\n",
       "  <tbody>\n",
       "    <tr>\n",
       "      <th>A</th>\n",
       "      <td>2.706850</td>\n",
       "      <td>0.628133</td>\n",
       "      <td>0.907969</td>\n",
       "      <td>0.503826</td>\n",
       "      <td>CA</td>\n",
       "    </tr>\n",
       "    <tr>\n",
       "      <th>B</th>\n",
       "      <td>0.651118</td>\n",
       "      <td>-0.319318</td>\n",
       "      <td>-0.848077</td>\n",
       "      <td>0.605965</td>\n",
       "      <td>NY</td>\n",
       "    </tr>\n",
       "    <tr>\n",
       "      <th>C</th>\n",
       "      <td>-2.018168</td>\n",
       "      <td>0.740122</td>\n",
       "      <td>0.528813</td>\n",
       "      <td>-0.589001</td>\n",
       "      <td>WY</td>\n",
       "    </tr>\n",
       "    <tr>\n",
       "      <th>D</th>\n",
       "      <td>0.188695</td>\n",
       "      <td>-0.758872</td>\n",
       "      <td>-0.933237</td>\n",
       "      <td>0.955057</td>\n",
       "      <td>OR</td>\n",
       "    </tr>\n",
       "    <tr>\n",
       "      <th>E</th>\n",
       "      <td>0.190794</td>\n",
       "      <td>1.978757</td>\n",
       "      <td>2.605967</td>\n",
       "      <td>0.683509</td>\n",
       "      <td>CO</td>\n",
       "    </tr>\n",
       "  </tbody>\n",
       "</table>\n",
       "</div>"
      ],
      "text/plain": [
       "          W         X         Y         Z States\n",
       "A  2.706850  0.628133  0.907969  0.503826     CA\n",
       "B  0.651118 -0.319318 -0.848077  0.605965     NY\n",
       "C -2.018168  0.740122  0.528813 -0.589001     WY\n",
       "D  0.188695 -0.758872 -0.933237  0.955057     OR\n",
       "E  0.190794  1.978757  2.605967  0.683509     CO"
      ]
     },
     "execution_count": 49,
     "metadata": {},
     "output_type": "execute_result"
    }
   ],
   "source": [
    "df"
   ]
  },
  {
   "cell_type": "code",
   "execution_count": 50,
   "id": "consecutive-administration",
   "metadata": {
    "execution": {
     "iopub.execute_input": "2021-05-08T10:58:00.600817Z",
     "iopub.status.busy": "2021-05-08T10:58:00.600118Z",
     "iopub.status.idle": "2021-05-08T10:58:00.603028Z",
     "shell.execute_reply": "2021-05-08T10:58:00.603508Z"
    },
    "papermill": {
     "duration": 0.072895,
     "end_time": "2021-05-08T10:58:00.603704",
     "exception": false,
     "start_time": "2021-05-08T10:58:00.530809",
     "status": "completed"
    },
    "tags": []
   },
   "outputs": [],
   "source": [
    "#multi-level index\n",
    "outside = ['G1','G1','G1','G2','G2','G2']\n",
    "inside = [1,2,3,1,2,3]\n",
    "hier_index = list(zip(outside,inside))\n",
    "hier_index = pd.MultiIndex.from_tuples(hier_index)"
   ]
  },
  {
   "cell_type": "code",
   "execution_count": 51,
   "id": "national-chambers",
   "metadata": {
    "execution": {
     "iopub.execute_input": "2021-05-08T10:58:00.727215Z",
     "iopub.status.busy": "2021-05-08T10:58:00.726219Z",
     "iopub.status.idle": "2021-05-08T10:58:00.729133Z",
     "shell.execute_reply": "2021-05-08T10:58:00.728490Z"
    },
    "papermill": {
     "duration": 0.066273,
     "end_time": "2021-05-08T10:58:00.729273",
     "exception": false,
     "start_time": "2021-05-08T10:58:00.663000",
     "status": "completed"
    },
    "tags": []
   },
   "outputs": [],
   "source": [
    "df = pd.DataFrame(randn(6,2),hier_index,['A','B'])"
   ]
  },
  {
   "cell_type": "code",
   "execution_count": 52,
   "id": "unique-illustration",
   "metadata": {
    "execution": {
     "iopub.execute_input": "2021-05-08T10:58:00.859512Z",
     "iopub.status.busy": "2021-05-08T10:58:00.858834Z",
     "iopub.status.idle": "2021-05-08T10:58:00.862749Z",
     "shell.execute_reply": "2021-05-08T10:58:00.863354Z"
    },
    "papermill": {
     "duration": 0.074368,
     "end_time": "2021-05-08T10:58:00.863526",
     "exception": false,
     "start_time": "2021-05-08T10:58:00.789158",
     "status": "completed"
    },
    "tags": []
   },
   "outputs": [
    {
     "data": {
      "text/html": [
       "<div>\n",
       "<style scoped>\n",
       "    .dataframe tbody tr th:only-of-type {\n",
       "        vertical-align: middle;\n",
       "    }\n",
       "\n",
       "    .dataframe tbody tr th {\n",
       "        vertical-align: top;\n",
       "    }\n",
       "\n",
       "    .dataframe thead th {\n",
       "        text-align: right;\n",
       "    }\n",
       "</style>\n",
       "<table border=\"1\" class=\"dataframe\">\n",
       "  <thead>\n",
       "    <tr style=\"text-align: right;\">\n",
       "      <th></th>\n",
       "      <th></th>\n",
       "      <th>A</th>\n",
       "      <th>B</th>\n",
       "    </tr>\n",
       "  </thead>\n",
       "  <tbody>\n",
       "    <tr>\n",
       "      <th rowspan=\"3\" valign=\"top\">G1</th>\n",
       "      <th>1</th>\n",
       "      <td>0.302665</td>\n",
       "      <td>1.693723</td>\n",
       "    </tr>\n",
       "    <tr>\n",
       "      <th>2</th>\n",
       "      <td>-1.706086</td>\n",
       "      <td>-1.159119</td>\n",
       "    </tr>\n",
       "    <tr>\n",
       "      <th>3</th>\n",
       "      <td>-0.134841</td>\n",
       "      <td>0.390528</td>\n",
       "    </tr>\n",
       "    <tr>\n",
       "      <th rowspan=\"3\" valign=\"top\">G2</th>\n",
       "      <th>1</th>\n",
       "      <td>0.166905</td>\n",
       "      <td>0.184502</td>\n",
       "    </tr>\n",
       "    <tr>\n",
       "      <th>2</th>\n",
       "      <td>0.807706</td>\n",
       "      <td>0.072960</td>\n",
       "    </tr>\n",
       "    <tr>\n",
       "      <th>3</th>\n",
       "      <td>0.638787</td>\n",
       "      <td>0.329646</td>\n",
       "    </tr>\n",
       "  </tbody>\n",
       "</table>\n",
       "</div>"
      ],
      "text/plain": [
       "             A         B\n",
       "G1 1  0.302665  1.693723\n",
       "   2 -1.706086 -1.159119\n",
       "   3 -0.134841  0.390528\n",
       "G2 1  0.166905  0.184502\n",
       "   2  0.807706  0.072960\n",
       "   3  0.638787  0.329646"
      ]
     },
     "execution_count": 52,
     "metadata": {},
     "output_type": "execute_result"
    }
   ],
   "source": [
    "#two level index (index hierarchy)\n",
    "df"
   ]
  },
  {
   "cell_type": "code",
   "execution_count": 53,
   "id": "floral-qualification",
   "metadata": {
    "execution": {
     "iopub.execute_input": "2021-05-08T10:58:00.994284Z",
     "iopub.status.busy": "2021-05-08T10:58:00.993248Z",
     "iopub.status.idle": "2021-05-08T10:58:00.997835Z",
     "shell.execute_reply": "2021-05-08T10:58:00.997244Z"
    },
    "papermill": {
     "duration": 0.074051,
     "end_time": "2021-05-08T10:58:00.998005",
     "exception": false,
     "start_time": "2021-05-08T10:58:00.923954",
     "status": "completed"
    },
    "tags": []
   },
   "outputs": [
    {
     "data": {
      "text/html": [
       "<div>\n",
       "<style scoped>\n",
       "    .dataframe tbody tr th:only-of-type {\n",
       "        vertical-align: middle;\n",
       "    }\n",
       "\n",
       "    .dataframe tbody tr th {\n",
       "        vertical-align: top;\n",
       "    }\n",
       "\n",
       "    .dataframe thead th {\n",
       "        text-align: right;\n",
       "    }\n",
       "</style>\n",
       "<table border=\"1\" class=\"dataframe\">\n",
       "  <thead>\n",
       "    <tr style=\"text-align: right;\">\n",
       "      <th></th>\n",
       "      <th>A</th>\n",
       "      <th>B</th>\n",
       "    </tr>\n",
       "  </thead>\n",
       "  <tbody>\n",
       "    <tr>\n",
       "      <th>1</th>\n",
       "      <td>0.302665</td>\n",
       "      <td>1.693723</td>\n",
       "    </tr>\n",
       "    <tr>\n",
       "      <th>2</th>\n",
       "      <td>-1.706086</td>\n",
       "      <td>-1.159119</td>\n",
       "    </tr>\n",
       "    <tr>\n",
       "      <th>3</th>\n",
       "      <td>-0.134841</td>\n",
       "      <td>0.390528</td>\n",
       "    </tr>\n",
       "  </tbody>\n",
       "</table>\n",
       "</div>"
      ],
      "text/plain": [
       "          A         B\n",
       "1  0.302665  1.693723\n",
       "2 -1.706086 -1.159119\n",
       "3 -0.134841  0.390528"
      ]
     },
     "execution_count": 53,
     "metadata": {},
     "output_type": "execute_result"
    }
   ],
   "source": [
    "df.loc['G1']"
   ]
  },
  {
   "cell_type": "code",
   "execution_count": 54,
   "id": "fantastic-nigeria",
   "metadata": {
    "execution": {
     "iopub.execute_input": "2021-05-08T10:58:01.133803Z",
     "iopub.status.busy": "2021-05-08T10:58:01.132929Z",
     "iopub.status.idle": "2021-05-08T10:58:01.138055Z",
     "shell.execute_reply": "2021-05-08T10:58:01.137405Z"
    },
    "papermill": {
     "duration": 0.07533,
     "end_time": "2021-05-08T10:58:01.138191",
     "exception": false,
     "start_time": "2021-05-08T10:58:01.062861",
     "status": "completed"
    },
    "tags": []
   },
   "outputs": [
    {
     "data": {
      "text/plain": [
       "A    0.302665\n",
       "B    1.693723\n",
       "Name: 1, dtype: float64"
      ]
     },
     "execution_count": 54,
     "metadata": {},
     "output_type": "execute_result"
    }
   ],
   "source": [
    "df.loc['G1'].loc[1]"
   ]
  },
  {
   "cell_type": "code",
   "execution_count": 55,
   "id": "regulated-backing",
   "metadata": {
    "execution": {
     "iopub.execute_input": "2021-05-08T10:58:01.265485Z",
     "iopub.status.busy": "2021-05-08T10:58:01.264535Z",
     "iopub.status.idle": "2021-05-08T10:58:01.268765Z",
     "shell.execute_reply": "2021-05-08T10:58:01.269348Z"
    },
    "papermill": {
     "duration": 0.070547,
     "end_time": "2021-05-08T10:58:01.269550",
     "exception": false,
     "start_time": "2021-05-08T10:58:01.199003",
     "status": "completed"
    },
    "tags": []
   },
   "outputs": [
    {
     "data": {
      "text/plain": [
       "FrozenList([None, None])"
      ]
     },
     "execution_count": 55,
     "metadata": {},
     "output_type": "execute_result"
    }
   ],
   "source": [
    "#name the indexes\n",
    "df.index.names"
   ]
  },
  {
   "cell_type": "code",
   "execution_count": 56,
   "id": "otherwise-bradford",
   "metadata": {
    "execution": {
     "iopub.execute_input": "2021-05-08T10:58:01.404551Z",
     "iopub.status.busy": "2021-05-08T10:58:01.403525Z",
     "iopub.status.idle": "2021-05-08T10:58:01.407760Z",
     "shell.execute_reply": "2021-05-08T10:58:01.408306Z"
    },
    "papermill": {
     "duration": 0.077229,
     "end_time": "2021-05-08T10:58:01.408496",
     "exception": false,
     "start_time": "2021-05-08T10:58:01.331267",
     "status": "completed"
    },
    "tags": []
   },
   "outputs": [
    {
     "data": {
      "text/html": [
       "<div>\n",
       "<style scoped>\n",
       "    .dataframe tbody tr th:only-of-type {\n",
       "        vertical-align: middle;\n",
       "    }\n",
       "\n",
       "    .dataframe tbody tr th {\n",
       "        vertical-align: top;\n",
       "    }\n",
       "\n",
       "    .dataframe thead th {\n",
       "        text-align: right;\n",
       "    }\n",
       "</style>\n",
       "<table border=\"1\" class=\"dataframe\">\n",
       "  <thead>\n",
       "    <tr style=\"text-align: right;\">\n",
       "      <th></th>\n",
       "      <th></th>\n",
       "      <th>A</th>\n",
       "      <th>B</th>\n",
       "    </tr>\n",
       "    <tr>\n",
       "      <th>Groups</th>\n",
       "      <th>Num</th>\n",
       "      <th></th>\n",
       "      <th></th>\n",
       "    </tr>\n",
       "  </thead>\n",
       "  <tbody>\n",
       "    <tr>\n",
       "      <th rowspan=\"3\" valign=\"top\">G1</th>\n",
       "      <th>1</th>\n",
       "      <td>0.302665</td>\n",
       "      <td>1.693723</td>\n",
       "    </tr>\n",
       "    <tr>\n",
       "      <th>2</th>\n",
       "      <td>-1.706086</td>\n",
       "      <td>-1.159119</td>\n",
       "    </tr>\n",
       "    <tr>\n",
       "      <th>3</th>\n",
       "      <td>-0.134841</td>\n",
       "      <td>0.390528</td>\n",
       "    </tr>\n",
       "    <tr>\n",
       "      <th rowspan=\"3\" valign=\"top\">G2</th>\n",
       "      <th>1</th>\n",
       "      <td>0.166905</td>\n",
       "      <td>0.184502</td>\n",
       "    </tr>\n",
       "    <tr>\n",
       "      <th>2</th>\n",
       "      <td>0.807706</td>\n",
       "      <td>0.072960</td>\n",
       "    </tr>\n",
       "    <tr>\n",
       "      <th>3</th>\n",
       "      <td>0.638787</td>\n",
       "      <td>0.329646</td>\n",
       "    </tr>\n",
       "  </tbody>\n",
       "</table>\n",
       "</div>"
      ],
      "text/plain": [
       "                   A         B\n",
       "Groups Num                    \n",
       "G1     1    0.302665  1.693723\n",
       "       2   -1.706086 -1.159119\n",
       "       3   -0.134841  0.390528\n",
       "G2     1    0.166905  0.184502\n",
       "       2    0.807706  0.072960\n",
       "       3    0.638787  0.329646"
      ]
     },
     "execution_count": 56,
     "metadata": {},
     "output_type": "execute_result"
    }
   ],
   "source": [
    "#name the indexes\n",
    "df.index.names = ['Groups', 'Num']\n",
    "df"
   ]
  },
  {
   "cell_type": "code",
   "execution_count": 57,
   "id": "grand-american",
   "metadata": {
    "execution": {
     "iopub.execute_input": "2021-05-08T10:58:01.540668Z",
     "iopub.status.busy": "2021-05-08T10:58:01.539709Z",
     "iopub.status.idle": "2021-05-08T10:58:01.544202Z",
     "shell.execute_reply": "2021-05-08T10:58:01.544759Z"
    },
    "papermill": {
     "duration": 0.073308,
     "end_time": "2021-05-08T10:58:01.544957",
     "exception": false,
     "start_time": "2021-05-08T10:58:01.471649",
     "status": "completed"
    },
    "tags": []
   },
   "outputs": [
    {
     "data": {
      "text/plain": [
       "0.07295967531703869"
      ]
     },
     "execution_count": 57,
     "metadata": {},
     "output_type": "execute_result"
    }
   ],
   "source": [
    "df.loc['G2'].loc[2]['B']"
   ]
  },
  {
   "cell_type": "code",
   "execution_count": 58,
   "id": "former-iceland",
   "metadata": {
    "execution": {
     "iopub.execute_input": "2021-05-08T10:58:01.682765Z",
     "iopub.status.busy": "2021-05-08T10:58:01.681799Z",
     "iopub.status.idle": "2021-05-08T10:58:01.686146Z",
     "shell.execute_reply": "2021-05-08T10:58:01.685579Z"
    },
    "papermill": {
     "duration": 0.078852,
     "end_time": "2021-05-08T10:58:01.686282",
     "exception": false,
     "start_time": "2021-05-08T10:58:01.607430",
     "status": "completed"
    },
    "tags": []
   },
   "outputs": [
    {
     "data": {
      "text/html": [
       "<div>\n",
       "<style scoped>\n",
       "    .dataframe tbody tr th:only-of-type {\n",
       "        vertical-align: middle;\n",
       "    }\n",
       "\n",
       "    .dataframe tbody tr th {\n",
       "        vertical-align: top;\n",
       "    }\n",
       "\n",
       "    .dataframe thead th {\n",
       "        text-align: right;\n",
       "    }\n",
       "</style>\n",
       "<table border=\"1\" class=\"dataframe\">\n",
       "  <thead>\n",
       "    <tr style=\"text-align: right;\">\n",
       "      <th></th>\n",
       "      <th>A</th>\n",
       "      <th>B</th>\n",
       "    </tr>\n",
       "    <tr>\n",
       "      <th>Num</th>\n",
       "      <th></th>\n",
       "      <th></th>\n",
       "    </tr>\n",
       "  </thead>\n",
       "  <tbody>\n",
       "    <tr>\n",
       "      <th>1</th>\n",
       "      <td>0.302665</td>\n",
       "      <td>1.693723</td>\n",
       "    </tr>\n",
       "    <tr>\n",
       "      <th>2</th>\n",
       "      <td>-1.706086</td>\n",
       "      <td>-1.159119</td>\n",
       "    </tr>\n",
       "    <tr>\n",
       "      <th>3</th>\n",
       "      <td>-0.134841</td>\n",
       "      <td>0.390528</td>\n",
       "    </tr>\n",
       "  </tbody>\n",
       "</table>\n",
       "</div>"
      ],
      "text/plain": [
       "            A         B\n",
       "Num                    \n",
       "1    0.302665  1.693723\n",
       "2   -1.706086 -1.159119\n",
       "3   -0.134841  0.390528"
      ]
     },
     "execution_count": 58,
     "metadata": {},
     "output_type": "execute_result"
    }
   ],
   "source": [
    "# xs = Cross Section method\n",
    "df.xs('G1')"
   ]
  },
  {
   "cell_type": "code",
   "execution_count": 59,
   "id": "growing-affiliate",
   "metadata": {
    "execution": {
     "iopub.execute_input": "2021-05-08T10:58:01.825560Z",
     "iopub.status.busy": "2021-05-08T10:58:01.824609Z",
     "iopub.status.idle": "2021-05-08T10:58:01.829481Z",
     "shell.execute_reply": "2021-05-08T10:58:01.828923Z"
    },
    "papermill": {
     "duration": 0.080585,
     "end_time": "2021-05-08T10:58:01.829658",
     "exception": false,
     "start_time": "2021-05-08T10:58:01.749073",
     "status": "completed"
    },
    "tags": []
   },
   "outputs": [
    {
     "data": {
      "text/html": [
       "<div>\n",
       "<style scoped>\n",
       "    .dataframe tbody tr th:only-of-type {\n",
       "        vertical-align: middle;\n",
       "    }\n",
       "\n",
       "    .dataframe tbody tr th {\n",
       "        vertical-align: top;\n",
       "    }\n",
       "\n",
       "    .dataframe thead th {\n",
       "        text-align: right;\n",
       "    }\n",
       "</style>\n",
       "<table border=\"1\" class=\"dataframe\">\n",
       "  <thead>\n",
       "    <tr style=\"text-align: right;\">\n",
       "      <th></th>\n",
       "      <th>A</th>\n",
       "      <th>B</th>\n",
       "    </tr>\n",
       "    <tr>\n",
       "      <th>Groups</th>\n",
       "      <th></th>\n",
       "      <th></th>\n",
       "    </tr>\n",
       "  </thead>\n",
       "  <tbody>\n",
       "    <tr>\n",
       "      <th>G1</th>\n",
       "      <td>0.302665</td>\n",
       "      <td>1.693723</td>\n",
       "    </tr>\n",
       "    <tr>\n",
       "      <th>G2</th>\n",
       "      <td>0.166905</td>\n",
       "      <td>0.184502</td>\n",
       "    </tr>\n",
       "  </tbody>\n",
       "</table>\n",
       "</div>"
      ],
      "text/plain": [
       "               A         B\n",
       "Groups                    \n",
       "G1      0.302665  1.693723\n",
       "G2      0.166905  0.184502"
      ]
     },
     "execution_count": 59,
     "metadata": {},
     "output_type": "execute_result"
    }
   ],
   "source": [
    "df.xs(1,level='Num')"
   ]
  }
 ],
 "metadata": {
  "kernelspec": {
   "display_name": "Python 3",
   "language": "python",
   "name": "python3"
  },
  "language_info": {
   "codemirror_mode": {
    "name": "ipython",
    "version": 3
   },
   "file_extension": ".py",
   "mimetype": "text/x-python",
   "name": "python",
   "nbconvert_exporter": "python",
   "pygments_lexer": "ipython3",
   "version": "3.7.10"
  },
  "papermill": {
   "default_parameters": {},
   "duration": 15.768353,
   "end_time": "2021-05-08T10:58:02.610064",
   "environment_variables": {},
   "exception": null,
   "input_path": "__notebook__.ipynb",
   "output_path": "__notebook__.ipynb",
   "parameters": {},
   "start_time": "2021-05-08T10:57:46.841711",
   "version": "2.3.3"
  }
 },
 "nbformat": 4,
 "nbformat_minor": 5
}
