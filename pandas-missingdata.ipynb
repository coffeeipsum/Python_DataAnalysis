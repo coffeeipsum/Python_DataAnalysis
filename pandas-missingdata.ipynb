{
 "cells": [
  {
   "cell_type": "code",
   "execution_count": 1,
   "id": "democratic-hygiene",
   "metadata": {
    "_cell_guid": "b1076dfc-b9ad-4769-8c92-a6c4dae69d19",
    "_uuid": "8f2839f25d086af736a60e9eeb907d3b93b6e0e5",
    "execution": {
     "iopub.execute_input": "2021-05-08T11:23:29.934096Z",
     "iopub.status.busy": "2021-05-08T11:23:29.930906Z",
     "iopub.status.idle": "2021-05-08T11:23:29.939654Z",
     "shell.execute_reply": "2021-05-08T11:23:29.938796Z"
    },
    "papermill": {
     "duration": 0.027936,
     "end_time": "2021-05-08T11:23:29.939900",
     "exception": false,
     "start_time": "2021-05-08T11:23:29.911964",
     "status": "completed"
    },
    "tags": []
   },
   "outputs": [],
   "source": [
    "# This Python 3 environment comes with many helpful analytics libraries installed\n",
    "# It is defined by the kaggle/python Docker image: https://github.com/kaggle/docker-python\n",
    "# For example, here's several helpful packages to load\n",
    "\n",
    "import numpy as np # linear algebra\n",
    "import pandas as pd # data processing, CSV file I/O (e.g. pd.read_csv)\n",
    "\n",
    "# Input data files are available in the read-only \"../input/\" directory\n",
    "# For example, running this (by clicking run or pressing Shift+Enter) will list all files under the input directory\n",
    "\n",
    "import os\n",
    "for dirname, _, filenames in os.walk('/kaggle/input'):\n",
    "    for filename in filenames:\n",
    "        print(os.path.join(dirname, filename))\n",
    "\n",
    "# You can write up to 20GB to the current directory (/kaggle/working/) that gets preserved as output when you create a version using \"Save & Run All\" \n",
    "# You can also write temporary files to /kaggle/temp/, but they won't be saved outside of the current session"
   ]
  },
  {
   "cell_type": "code",
   "execution_count": 2,
   "id": "stock-sussex",
   "metadata": {
    "execution": {
     "iopub.execute_input": "2021-05-08T11:23:29.962980Z",
     "iopub.status.busy": "2021-05-08T11:23:29.962214Z",
     "iopub.status.idle": "2021-05-08T11:23:29.966517Z",
     "shell.execute_reply": "2021-05-08T11:23:29.967102Z"
    },
    "papermill": {
     "duration": 0.018826,
     "end_time": "2021-05-08T11:23:29.967324",
     "exception": false,
     "start_time": "2021-05-08T11:23:29.948498",
     "status": "completed"
    },
    "tags": []
   },
   "outputs": [],
   "source": [
    "#a little trick to create a quick Data Fame using a dictionary\n",
    "d = {'A':[1,2, np.nan],'B':[5,np.nan,np.nan],'C':[1,2,3]}"
   ]
  },
  {
   "cell_type": "code",
   "execution_count": 3,
   "id": "brief-pathology",
   "metadata": {
    "execution": {
     "iopub.execute_input": "2021-05-08T11:23:29.999837Z",
     "iopub.status.busy": "2021-05-08T11:23:29.998652Z",
     "iopub.status.idle": "2021-05-08T11:23:30.026797Z",
     "shell.execute_reply": "2021-05-08T11:23:30.027506Z"
    },
    "papermill": {
     "duration": 0.05214,
     "end_time": "2021-05-08T11:23:30.027736",
     "exception": false,
     "start_time": "2021-05-08T11:23:29.975596",
     "status": "completed"
    },
    "tags": []
   },
   "outputs": [
    {
     "data": {
      "text/html": [
       "<div>\n",
       "<style scoped>\n",
       "    .dataframe tbody tr th:only-of-type {\n",
       "        vertical-align: middle;\n",
       "    }\n",
       "\n",
       "    .dataframe tbody tr th {\n",
       "        vertical-align: top;\n",
       "    }\n",
       "\n",
       "    .dataframe thead th {\n",
       "        text-align: right;\n",
       "    }\n",
       "</style>\n",
       "<table border=\"1\" class=\"dataframe\">\n",
       "  <thead>\n",
       "    <tr style=\"text-align: right;\">\n",
       "      <th></th>\n",
       "      <th>A</th>\n",
       "      <th>B</th>\n",
       "      <th>C</th>\n",
       "    </tr>\n",
       "  </thead>\n",
       "  <tbody>\n",
       "    <tr>\n",
       "      <th>0</th>\n",
       "      <td>1.0</td>\n",
       "      <td>5.0</td>\n",
       "      <td>1</td>\n",
       "    </tr>\n",
       "    <tr>\n",
       "      <th>1</th>\n",
       "      <td>2.0</td>\n",
       "      <td>NaN</td>\n",
       "      <td>2</td>\n",
       "    </tr>\n",
       "    <tr>\n",
       "      <th>2</th>\n",
       "      <td>NaN</td>\n",
       "      <td>NaN</td>\n",
       "      <td>3</td>\n",
       "    </tr>\n",
       "  </tbody>\n",
       "</table>\n",
       "</div>"
      ],
      "text/plain": [
       "     A    B  C\n",
       "0  1.0  5.0  1\n",
       "1  2.0  NaN  2\n",
       "2  NaN  NaN  3"
      ]
     },
     "execution_count": 3,
     "metadata": {},
     "output_type": "execute_result"
    }
   ],
   "source": [
    "df = pd.DataFrame(d)\n",
    "df\n",
    "#if there are any missing values, Pandas automatically fills these cells with Null/NaN "
   ]
  },
  {
   "cell_type": "code",
   "execution_count": 4,
   "id": "executive-contemporary",
   "metadata": {
    "execution": {
     "iopub.execute_input": "2021-05-08T11:23:30.055154Z",
     "iopub.status.busy": "2021-05-08T11:23:30.054127Z",
     "iopub.status.idle": "2021-05-08T11:23:30.095272Z",
     "shell.execute_reply": "2021-05-08T11:23:30.094552Z"
    },
    "papermill": {
     "duration": 0.058519,
     "end_time": "2021-05-08T11:23:30.095466",
     "exception": false,
     "start_time": "2021-05-08T11:23:30.036947",
     "status": "completed"
    },
    "tags": []
   },
   "outputs": [
    {
     "data": {
      "text/html": [
       "<div>\n",
       "<style scoped>\n",
       "    .dataframe tbody tr th:only-of-type {\n",
       "        vertical-align: middle;\n",
       "    }\n",
       "\n",
       "    .dataframe tbody tr th {\n",
       "        vertical-align: top;\n",
       "    }\n",
       "\n",
       "    .dataframe thead th {\n",
       "        text-align: right;\n",
       "    }\n",
       "</style>\n",
       "<table border=\"1\" class=\"dataframe\">\n",
       "  <thead>\n",
       "    <tr style=\"text-align: right;\">\n",
       "      <th></th>\n",
       "      <th>A</th>\n",
       "      <th>B</th>\n",
       "      <th>C</th>\n",
       "    </tr>\n",
       "  </thead>\n",
       "  <tbody>\n",
       "    <tr>\n",
       "      <th>0</th>\n",
       "      <td>1.0</td>\n",
       "      <td>5.0</td>\n",
       "      <td>1</td>\n",
       "    </tr>\n",
       "  </tbody>\n",
       "</table>\n",
       "</div>"
      ],
      "text/plain": [
       "     A    B  C\n",
       "0  1.0  5.0  1"
      ]
     },
     "execution_count": 4,
     "metadata": {},
     "output_type": "execute_result"
    }
   ],
   "source": [
    "#we can drop NaN values\n",
    "#the dropna method will drop the entire row if it contains one or more Null values\n",
    "df.dropna()\n"
   ]
  },
  {
   "cell_type": "code",
   "execution_count": 5,
   "id": "discrete-level",
   "metadata": {
    "execution": {
     "iopub.execute_input": "2021-05-08T11:23:30.128979Z",
     "iopub.status.busy": "2021-05-08T11:23:30.127528Z",
     "iopub.status.idle": "2021-05-08T11:23:30.133565Z",
     "shell.execute_reply": "2021-05-08T11:23:30.132913Z"
    },
    "papermill": {
     "duration": 0.028939,
     "end_time": "2021-05-08T11:23:30.133733",
     "exception": false,
     "start_time": "2021-05-08T11:23:30.104794",
     "status": "completed"
    },
    "tags": []
   },
   "outputs": [
    {
     "data": {
      "text/html": [
       "<div>\n",
       "<style scoped>\n",
       "    .dataframe tbody tr th:only-of-type {\n",
       "        vertical-align: middle;\n",
       "    }\n",
       "\n",
       "    .dataframe tbody tr th {\n",
       "        vertical-align: top;\n",
       "    }\n",
       "\n",
       "    .dataframe thead th {\n",
       "        text-align: right;\n",
       "    }\n",
       "</style>\n",
       "<table border=\"1\" class=\"dataframe\">\n",
       "  <thead>\n",
       "    <tr style=\"text-align: right;\">\n",
       "      <th></th>\n",
       "      <th>C</th>\n",
       "    </tr>\n",
       "  </thead>\n",
       "  <tbody>\n",
       "    <tr>\n",
       "      <th>0</th>\n",
       "      <td>1</td>\n",
       "    </tr>\n",
       "    <tr>\n",
       "      <th>1</th>\n",
       "      <td>2</td>\n",
       "    </tr>\n",
       "    <tr>\n",
       "      <th>2</th>\n",
       "      <td>3</td>\n",
       "    </tr>\n",
       "  </tbody>\n",
       "</table>\n",
       "</div>"
      ],
      "text/plain": [
       "   C\n",
       "0  1\n",
       "1  2\n",
       "2  3"
      ]
     },
     "execution_count": 5,
     "metadata": {},
     "output_type": "execute_result"
    }
   ],
   "source": [
    "#if you'd like to drop columns f they contain one or more Null values, add the axis argument\n",
    "df.dropna(axis=1)"
   ]
  },
  {
   "cell_type": "code",
   "execution_count": 6,
   "id": "moved-mineral",
   "metadata": {
    "execution": {
     "iopub.execute_input": "2021-05-08T11:23:30.167866Z",
     "iopub.status.busy": "2021-05-08T11:23:30.167106Z",
     "iopub.status.idle": "2021-05-08T11:23:30.172972Z",
     "shell.execute_reply": "2021-05-08T11:23:30.172244Z"
    },
    "papermill": {
     "duration": 0.029378,
     "end_time": "2021-05-08T11:23:30.173167",
     "exception": false,
     "start_time": "2021-05-08T11:23:30.143789",
     "status": "completed"
    },
    "tags": []
   },
   "outputs": [
    {
     "data": {
      "text/html": [
       "<div>\n",
       "<style scoped>\n",
       "    .dataframe tbody tr th:only-of-type {\n",
       "        vertical-align: middle;\n",
       "    }\n",
       "\n",
       "    .dataframe tbody tr th {\n",
       "        vertical-align: top;\n",
       "    }\n",
       "\n",
       "    .dataframe thead th {\n",
       "        text-align: right;\n",
       "    }\n",
       "</style>\n",
       "<table border=\"1\" class=\"dataframe\">\n",
       "  <thead>\n",
       "    <tr style=\"text-align: right;\">\n",
       "      <th></th>\n",
       "      <th>A</th>\n",
       "      <th>B</th>\n",
       "      <th>C</th>\n",
       "    </tr>\n",
       "  </thead>\n",
       "  <tbody>\n",
       "    <tr>\n",
       "      <th>0</th>\n",
       "      <td>1.0</td>\n",
       "      <td>5.0</td>\n",
       "      <td>1</td>\n",
       "    </tr>\n",
       "    <tr>\n",
       "      <th>1</th>\n",
       "      <td>2.0</td>\n",
       "      <td>NaN</td>\n",
       "      <td>2</td>\n",
       "    </tr>\n",
       "  </tbody>\n",
       "</table>\n",
       "</div>"
      ],
      "text/plain": [
       "     A    B  C\n",
       "0  1.0  5.0  1\n",
       "1  2.0  NaN  2"
      ]
     },
     "execution_count": 6,
     "metadata": {},
     "output_type": "execute_result"
    }
   ],
   "source": [
    "#we can also define a treshold in order to not get dropped\n",
    "df.dropna(thresh=2)"
   ]
  },
  {
   "cell_type": "code",
   "execution_count": 7,
   "id": "convertible-reader",
   "metadata": {
    "execution": {
     "iopub.execute_input": "2021-05-08T11:23:30.208274Z",
     "iopub.status.busy": "2021-05-08T11:23:30.207501Z",
     "iopub.status.idle": "2021-05-08T11:23:30.212643Z",
     "shell.execute_reply": "2021-05-08T11:23:30.211895Z"
    },
    "papermill": {
     "duration": 0.028573,
     "end_time": "2021-05-08T11:23:30.212818",
     "exception": false,
     "start_time": "2021-05-08T11:23:30.184245",
     "status": "completed"
    },
    "tags": []
   },
   "outputs": [
    {
     "data": {
      "text/html": [
       "<div>\n",
       "<style scoped>\n",
       "    .dataframe tbody tr th:only-of-type {\n",
       "        vertical-align: middle;\n",
       "    }\n",
       "\n",
       "    .dataframe tbody tr th {\n",
       "        vertical-align: top;\n",
       "    }\n",
       "\n",
       "    .dataframe thead th {\n",
       "        text-align: right;\n",
       "    }\n",
       "</style>\n",
       "<table border=\"1\" class=\"dataframe\">\n",
       "  <thead>\n",
       "    <tr style=\"text-align: right;\">\n",
       "      <th></th>\n",
       "      <th>A</th>\n",
       "      <th>B</th>\n",
       "      <th>C</th>\n",
       "    </tr>\n",
       "  </thead>\n",
       "  <tbody>\n",
       "    <tr>\n",
       "      <th>0</th>\n",
       "      <td>1.0</td>\n",
       "      <td>5.0</td>\n",
       "      <td>1</td>\n",
       "    </tr>\n",
       "    <tr>\n",
       "      <th>1</th>\n",
       "      <td>2.0</td>\n",
       "      <td>String Value for example</td>\n",
       "      <td>2</td>\n",
       "    </tr>\n",
       "    <tr>\n",
       "      <th>2</th>\n",
       "      <td>String Value for example</td>\n",
       "      <td>String Value for example</td>\n",
       "      <td>3</td>\n",
       "    </tr>\n",
       "  </tbody>\n",
       "</table>\n",
       "</div>"
      ],
      "text/plain": [
       "                          A                         B  C\n",
       "0                       1.0                       5.0  1\n",
       "1                       2.0  String Value for example  2\n",
       "2  String Value for example  String Value for example  3"
      ]
     },
     "execution_count": 7,
     "metadata": {},
     "output_type": "execute_result"
    }
   ],
   "source": [
    "#Let's replace (or fill in) the missing values\n",
    "df.fillna(value='String Value for example')"
   ]
  },
  {
   "cell_type": "code",
   "execution_count": 8,
   "id": "cardiac-capture",
   "metadata": {
    "execution": {
     "iopub.execute_input": "2021-05-08T11:23:30.246937Z",
     "iopub.status.busy": "2021-05-08T11:23:30.243743Z",
     "iopub.status.idle": "2021-05-08T11:23:30.254560Z",
     "shell.execute_reply": "2021-05-08T11:23:30.253813Z"
    },
    "papermill": {
     "duration": 0.030916,
     "end_time": "2021-05-08T11:23:30.254730",
     "exception": false,
     "start_time": "2021-05-08T11:23:30.223814",
     "status": "completed"
    },
    "tags": []
   },
   "outputs": [
    {
     "data": {
      "text/plain": [
       "0    1.0\n",
       "1    2.0\n",
       "2    1.5\n",
       "Name: A, dtype: float64"
      ]
     },
     "execution_count": 8,
     "metadata": {},
     "output_type": "execute_result"
    }
   ],
   "source": [
    "#on column A, let's use the mean (the average) value of all values in that column\n",
    "df['A'].fillna(value=df['A'].mean())"
   ]
  },
  {
   "cell_type": "code",
   "execution_count": 9,
   "id": "cultural-windows",
   "metadata": {
    "execution": {
     "iopub.execute_input": "2021-05-08T11:23:30.284757Z",
     "iopub.status.busy": "2021-05-08T11:23:30.283991Z",
     "iopub.status.idle": "2021-05-08T11:23:30.286211Z",
     "shell.execute_reply": "2021-05-08T11:23:30.286714Z"
    },
    "papermill": {
     "duration": 0.020679,
     "end_time": "2021-05-08T11:23:30.286927",
     "exception": false,
     "start_time": "2021-05-08T11:23:30.266248",
     "status": "completed"
    },
    "tags": []
   },
   "outputs": [],
   "source": [
    "#to make the changes permanent, add the inplace=True argument\n",
    "df['A'].fillna(value=df['A'].mean(), inplace=True)"
   ]
  }
 ],
 "metadata": {
  "kernelspec": {
   "display_name": "Python 3",
   "language": "python",
   "name": "python3"
  },
  "language_info": {
   "codemirror_mode": {
    "name": "ipython",
    "version": 3
   },
   "file_extension": ".py",
   "mimetype": "text/x-python",
   "name": "python",
   "nbconvert_exporter": "python",
   "pygments_lexer": "ipython3",
   "version": "3.7.10"
  },
  "papermill": {
   "default_parameters": {},
   "duration": 12.084147,
   "end_time": "2021-05-08T11:23:31.766565",
   "environment_variables": {},
   "exception": null,
   "input_path": "__notebook__.ipynb",
   "output_path": "__notebook__.ipynb",
   "parameters": {},
   "start_time": "2021-05-08T11:23:19.682418",
   "version": "2.3.3"
  }
 },
 "nbformat": 4,
 "nbformat_minor": 5
}
